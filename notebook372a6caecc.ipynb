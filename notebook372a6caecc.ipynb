{
 "cells": [
  {
   "cell_type": "code",
   "execution_count": 1,
   "id": "dccfb154",
   "metadata": {
    "_cell_guid": "b1076dfc-b9ad-4769-8c92-a6c4dae69d19",
    "_uuid": "8f2839f25d086af736a60e9eeb907d3b93b6e0e5",
    "execution": {
     "iopub.execute_input": "2022-11-28T19:25:26.786385Z",
     "iopub.status.busy": "2022-11-28T19:25:26.785076Z",
     "iopub.status.idle": "2022-11-28T19:25:26.807525Z",
     "shell.execute_reply": "2022-11-28T19:25:26.806249Z"
    },
    "papermill": {
     "duration": 0.03619,
     "end_time": "2022-11-28T19:25:26.810830",
     "exception": false,
     "start_time": "2022-11-28T19:25:26.774640",
     "status": "completed"
    },
    "tags": []
   },
   "outputs": [
    {
     "name": "stdout",
     "output_type": "stream",
     "text": [
      "/kaggle/input/ipl-complete-dataset-20082020/IPL Matches 2008-2020.csv\n",
      "/kaggle/input/ipl-complete-dataset-20082020/IPL Ball-by-Ball 2008-2020.csv\n"
     ]
    }
   ],
   "source": [
    "# This Python 3 environment comes with many helpful analytics libraries installed\n",
    "# It is defined by the kaggle/python Docker image: https://github.com/kaggle/docker-python\n",
    "# For example, here's several helpful packages to load\n",
    "\n",
    "import numpy as np # linear algebra\n",
    "import pandas as pd # data processing, CSV file I/O (e.g. pd.read_csv)\n",
    "\n",
    "# Input data files are available in the read-only \"../input/\" directory\n",
    "# For example, running this (by clicking run or pressing Shift+Enter) will list all files under the input directory\n",
    "\n",
    "import os\n",
    "for dirname, _, filenames in os.walk('/kaggle/input'):\n",
    "    for filename in filenames:\n",
    "        print(os.path.join(dirname, filename))\n",
    "\n",
    "# You can write up to 20GB to the current directory (/kaggle/working/) that gets preserved as output when you create a version using \"Save & Run All\" \n",
    "# You can also write temporary files to /kaggle/temp/, but they won't be saved outside of the current session"
   ]
  },
  {
   "cell_type": "code",
   "execution_count": 2,
   "id": "f31b1d52",
   "metadata": {
    "execution": {
     "iopub.execute_input": "2022-11-28T19:25:26.828172Z",
     "iopub.status.busy": "2022-11-28T19:25:26.827756Z",
     "iopub.status.idle": "2022-11-28T19:25:26.888312Z",
     "shell.execute_reply": "2022-11-28T19:25:26.886873Z"
    },
    "papermill": {
     "duration": 0.071777,
     "end_time": "2022-11-28T19:25:26.891136",
     "exception": false,
     "start_time": "2022-11-28T19:25:26.819359",
     "status": "completed"
    },
    "tags": []
   },
   "outputs": [
    {
     "data": {
      "text/html": [
       "<div>\n",
       "<style scoped>\n",
       "    .dataframe tbody tr th:only-of-type {\n",
       "        vertical-align: middle;\n",
       "    }\n",
       "\n",
       "    .dataframe tbody tr th {\n",
       "        vertical-align: top;\n",
       "    }\n",
       "\n",
       "    .dataframe thead th {\n",
       "        text-align: right;\n",
       "    }\n",
       "</style>\n",
       "<table border=\"1\" class=\"dataframe\">\n",
       "  <thead>\n",
       "    <tr style=\"text-align: right;\">\n",
       "      <th></th>\n",
       "      <th>id</th>\n",
       "      <th>city</th>\n",
       "      <th>date</th>\n",
       "      <th>player_of_match</th>\n",
       "      <th>venue</th>\n",
       "      <th>neutral_venue</th>\n",
       "      <th>team1</th>\n",
       "      <th>team2</th>\n",
       "      <th>toss_winner</th>\n",
       "      <th>toss_decision</th>\n",
       "      <th>winner</th>\n",
       "      <th>result</th>\n",
       "      <th>result_margin</th>\n",
       "      <th>eliminator</th>\n",
       "      <th>method</th>\n",
       "      <th>umpire1</th>\n",
       "      <th>umpire2</th>\n",
       "    </tr>\n",
       "  </thead>\n",
       "  <tbody>\n",
       "    <tr>\n",
       "      <th>0</th>\n",
       "      <td>335982</td>\n",
       "      <td>Bangalore</td>\n",
       "      <td>2008-04-18</td>\n",
       "      <td>BB McCullum</td>\n",
       "      <td>M Chinnaswamy Stadium</td>\n",
       "      <td>0</td>\n",
       "      <td>Royal Challengers Bangalore</td>\n",
       "      <td>Kolkata Knight Riders</td>\n",
       "      <td>Royal Challengers Bangalore</td>\n",
       "      <td>field</td>\n",
       "      <td>Kolkata Knight Riders</td>\n",
       "      <td>runs</td>\n",
       "      <td>140.0</td>\n",
       "      <td>N</td>\n",
       "      <td>NaN</td>\n",
       "      <td>Asad Rauf</td>\n",
       "      <td>RE Koertzen</td>\n",
       "    </tr>\n",
       "    <tr>\n",
       "      <th>1</th>\n",
       "      <td>335983</td>\n",
       "      <td>Chandigarh</td>\n",
       "      <td>2008-04-19</td>\n",
       "      <td>MEK Hussey</td>\n",
       "      <td>Punjab Cricket Association Stadium, Mohali</td>\n",
       "      <td>0</td>\n",
       "      <td>Kings XI Punjab</td>\n",
       "      <td>Chennai Super Kings</td>\n",
       "      <td>Chennai Super Kings</td>\n",
       "      <td>bat</td>\n",
       "      <td>Chennai Super Kings</td>\n",
       "      <td>runs</td>\n",
       "      <td>33.0</td>\n",
       "      <td>N</td>\n",
       "      <td>NaN</td>\n",
       "      <td>MR Benson</td>\n",
       "      <td>SL Shastri</td>\n",
       "    </tr>\n",
       "    <tr>\n",
       "      <th>2</th>\n",
       "      <td>335984</td>\n",
       "      <td>Delhi</td>\n",
       "      <td>2008-04-19</td>\n",
       "      <td>MF Maharoof</td>\n",
       "      <td>Feroz Shah Kotla</td>\n",
       "      <td>0</td>\n",
       "      <td>Delhi Daredevils</td>\n",
       "      <td>Rajasthan Royals</td>\n",
       "      <td>Rajasthan Royals</td>\n",
       "      <td>bat</td>\n",
       "      <td>Delhi Daredevils</td>\n",
       "      <td>wickets</td>\n",
       "      <td>9.0</td>\n",
       "      <td>N</td>\n",
       "      <td>NaN</td>\n",
       "      <td>Aleem Dar</td>\n",
       "      <td>GA Pratapkumar</td>\n",
       "    </tr>\n",
       "    <tr>\n",
       "      <th>3</th>\n",
       "      <td>335985</td>\n",
       "      <td>Mumbai</td>\n",
       "      <td>2008-04-20</td>\n",
       "      <td>MV Boucher</td>\n",
       "      <td>Wankhede Stadium</td>\n",
       "      <td>0</td>\n",
       "      <td>Mumbai Indians</td>\n",
       "      <td>Royal Challengers Bangalore</td>\n",
       "      <td>Mumbai Indians</td>\n",
       "      <td>bat</td>\n",
       "      <td>Royal Challengers Bangalore</td>\n",
       "      <td>wickets</td>\n",
       "      <td>5.0</td>\n",
       "      <td>N</td>\n",
       "      <td>NaN</td>\n",
       "      <td>SJ Davis</td>\n",
       "      <td>DJ Harper</td>\n",
       "    </tr>\n",
       "    <tr>\n",
       "      <th>4</th>\n",
       "      <td>335986</td>\n",
       "      <td>Kolkata</td>\n",
       "      <td>2008-04-20</td>\n",
       "      <td>DJ Hussey</td>\n",
       "      <td>Eden Gardens</td>\n",
       "      <td>0</td>\n",
       "      <td>Kolkata Knight Riders</td>\n",
       "      <td>Deccan Chargers</td>\n",
       "      <td>Deccan Chargers</td>\n",
       "      <td>bat</td>\n",
       "      <td>Kolkata Knight Riders</td>\n",
       "      <td>wickets</td>\n",
       "      <td>5.0</td>\n",
       "      <td>N</td>\n",
       "      <td>NaN</td>\n",
       "      <td>BF Bowden</td>\n",
       "      <td>K Hariharan</td>\n",
       "    </tr>\n",
       "  </tbody>\n",
       "</table>\n",
       "</div>"
      ],
      "text/plain": [
       "       id        city        date player_of_match  \\\n",
       "0  335982   Bangalore  2008-04-18     BB McCullum   \n",
       "1  335983  Chandigarh  2008-04-19      MEK Hussey   \n",
       "2  335984       Delhi  2008-04-19     MF Maharoof   \n",
       "3  335985      Mumbai  2008-04-20      MV Boucher   \n",
       "4  335986     Kolkata  2008-04-20       DJ Hussey   \n",
       "\n",
       "                                        venue  neutral_venue  \\\n",
       "0                       M Chinnaswamy Stadium              0   \n",
       "1  Punjab Cricket Association Stadium, Mohali              0   \n",
       "2                            Feroz Shah Kotla              0   \n",
       "3                            Wankhede Stadium              0   \n",
       "4                                Eden Gardens              0   \n",
       "\n",
       "                         team1                        team2  \\\n",
       "0  Royal Challengers Bangalore        Kolkata Knight Riders   \n",
       "1              Kings XI Punjab          Chennai Super Kings   \n",
       "2             Delhi Daredevils             Rajasthan Royals   \n",
       "3               Mumbai Indians  Royal Challengers Bangalore   \n",
       "4        Kolkata Knight Riders              Deccan Chargers   \n",
       "\n",
       "                   toss_winner toss_decision                       winner  \\\n",
       "0  Royal Challengers Bangalore         field        Kolkata Knight Riders   \n",
       "1          Chennai Super Kings           bat          Chennai Super Kings   \n",
       "2             Rajasthan Royals           bat             Delhi Daredevils   \n",
       "3               Mumbai Indians           bat  Royal Challengers Bangalore   \n",
       "4              Deccan Chargers           bat        Kolkata Knight Riders   \n",
       "\n",
       "    result  result_margin eliminator method    umpire1         umpire2  \n",
       "0     runs          140.0          N    NaN  Asad Rauf     RE Koertzen  \n",
       "1     runs           33.0          N    NaN  MR Benson      SL Shastri  \n",
       "2  wickets            9.0          N    NaN  Aleem Dar  GA Pratapkumar  \n",
       "3  wickets            5.0          N    NaN   SJ Davis       DJ Harper  \n",
       "4  wickets            5.0          N    NaN  BF Bowden     K Hariharan  "
      ]
     },
     "execution_count": 2,
     "metadata": {},
     "output_type": "execute_result"
    }
   ],
   "source": [
    "df = pd.read_csv('/kaggle/input/ipl-complete-dataset-20082020/IPL Matches 2008-2020.csv')\n",
    "df.head()"
   ]
  },
  {
   "cell_type": "code",
   "execution_count": 3,
   "id": "a3da8870",
   "metadata": {
    "execution": {
     "iopub.execute_input": "2022-11-28T19:25:26.908318Z",
     "iopub.status.busy": "2022-11-28T19:25:26.907472Z",
     "iopub.status.idle": "2022-11-28T19:25:26.925583Z",
     "shell.execute_reply": "2022-11-28T19:25:26.924209Z"
    },
    "papermill": {
     "duration": 0.029463,
     "end_time": "2022-11-28T19:25:26.928473",
     "exception": false,
     "start_time": "2022-11-28T19:25:26.899010",
     "status": "completed"
    },
    "tags": []
   },
   "outputs": [
    {
     "data": {
      "text/plain": [
       "Mumbai Indians                 120\n",
       "Chennai Super Kings            106\n",
       "Kolkata Knight Riders           99\n",
       "Royal Challengers Bangalore     91\n",
       "Kings XI Punjab                 88\n",
       "Rajasthan Royals                81\n",
       "Delhi Daredevils                67\n",
       "Sunrisers Hyderabad             66\n",
       "Deccan Chargers                 29\n",
       "Delhi Capitals                  19\n",
       "Gujarat Lions                   13\n",
       "Pune Warriors                   12\n",
       "Rising Pune Supergiant          10\n",
       "Kochi Tuskers Kerala             6\n",
       "Rising Pune Supergiants          5\n",
       "Name: winner, dtype: int64"
      ]
     },
     "execution_count": 3,
     "metadata": {},
     "output_type": "execute_result"
    }
   ],
   "source": [
    "df.winner.value_counts()"
   ]
  },
  {
   "cell_type": "code",
   "execution_count": 4,
   "id": "11501be3",
   "metadata": {
    "execution": {
     "iopub.execute_input": "2022-11-28T19:25:26.945354Z",
     "iopub.status.busy": "2022-11-28T19:25:26.944921Z",
     "iopub.status.idle": "2022-11-28T19:25:27.695912Z",
     "shell.execute_reply": "2022-11-28T19:25:27.694579Z"
    },
    "papermill": {
     "duration": 0.763158,
     "end_time": "2022-11-28T19:25:27.698774",
     "exception": false,
     "start_time": "2022-11-28T19:25:26.935616",
     "status": "completed"
    },
    "tags": []
   },
   "outputs": [
    {
     "data": {
      "text/html": [
       "<div>\n",
       "<style scoped>\n",
       "    .dataframe tbody tr th:only-of-type {\n",
       "        vertical-align: middle;\n",
       "    }\n",
       "\n",
       "    .dataframe tbody tr th {\n",
       "        vertical-align: top;\n",
       "    }\n",
       "\n",
       "    .dataframe thead th {\n",
       "        text-align: right;\n",
       "    }\n",
       "</style>\n",
       "<table border=\"1\" class=\"dataframe\">\n",
       "  <thead>\n",
       "    <tr style=\"text-align: right;\">\n",
       "      <th></th>\n",
       "      <th>id</th>\n",
       "      <th>inning</th>\n",
       "      <th>over</th>\n",
       "      <th>ball</th>\n",
       "      <th>batsman</th>\n",
       "      <th>non_striker</th>\n",
       "      <th>bowler</th>\n",
       "      <th>batsman_runs</th>\n",
       "      <th>extra_runs</th>\n",
       "      <th>total_runs</th>\n",
       "      <th>non_boundary</th>\n",
       "      <th>is_wicket</th>\n",
       "      <th>dismissal_kind</th>\n",
       "      <th>player_dismissed</th>\n",
       "      <th>fielder</th>\n",
       "      <th>extras_type</th>\n",
       "      <th>batting_team</th>\n",
       "      <th>bowling_team</th>\n",
       "    </tr>\n",
       "  </thead>\n",
       "  <tbody>\n",
       "    <tr>\n",
       "      <th>0</th>\n",
       "      <td>335982</td>\n",
       "      <td>1</td>\n",
       "      <td>6</td>\n",
       "      <td>5</td>\n",
       "      <td>RT Ponting</td>\n",
       "      <td>BB McCullum</td>\n",
       "      <td>AA Noffke</td>\n",
       "      <td>1</td>\n",
       "      <td>0</td>\n",
       "      <td>1</td>\n",
       "      <td>0</td>\n",
       "      <td>0</td>\n",
       "      <td>NaN</td>\n",
       "      <td>NaN</td>\n",
       "      <td>NaN</td>\n",
       "      <td>NaN</td>\n",
       "      <td>Kolkata Knight Riders</td>\n",
       "      <td>Royal Challengers Bangalore</td>\n",
       "    </tr>\n",
       "    <tr>\n",
       "      <th>1</th>\n",
       "      <td>335982</td>\n",
       "      <td>1</td>\n",
       "      <td>6</td>\n",
       "      <td>6</td>\n",
       "      <td>BB McCullum</td>\n",
       "      <td>RT Ponting</td>\n",
       "      <td>AA Noffke</td>\n",
       "      <td>1</td>\n",
       "      <td>0</td>\n",
       "      <td>1</td>\n",
       "      <td>0</td>\n",
       "      <td>0</td>\n",
       "      <td>NaN</td>\n",
       "      <td>NaN</td>\n",
       "      <td>NaN</td>\n",
       "      <td>NaN</td>\n",
       "      <td>Kolkata Knight Riders</td>\n",
       "      <td>Royal Challengers Bangalore</td>\n",
       "    </tr>\n",
       "    <tr>\n",
       "      <th>2</th>\n",
       "      <td>335982</td>\n",
       "      <td>1</td>\n",
       "      <td>7</td>\n",
       "      <td>1</td>\n",
       "      <td>BB McCullum</td>\n",
       "      <td>RT Ponting</td>\n",
       "      <td>Z Khan</td>\n",
       "      <td>0</td>\n",
       "      <td>0</td>\n",
       "      <td>0</td>\n",
       "      <td>0</td>\n",
       "      <td>0</td>\n",
       "      <td>NaN</td>\n",
       "      <td>NaN</td>\n",
       "      <td>NaN</td>\n",
       "      <td>NaN</td>\n",
       "      <td>Kolkata Knight Riders</td>\n",
       "      <td>Royal Challengers Bangalore</td>\n",
       "    </tr>\n",
       "    <tr>\n",
       "      <th>3</th>\n",
       "      <td>335982</td>\n",
       "      <td>1</td>\n",
       "      <td>7</td>\n",
       "      <td>2</td>\n",
       "      <td>BB McCullum</td>\n",
       "      <td>RT Ponting</td>\n",
       "      <td>Z Khan</td>\n",
       "      <td>1</td>\n",
       "      <td>0</td>\n",
       "      <td>1</td>\n",
       "      <td>0</td>\n",
       "      <td>0</td>\n",
       "      <td>NaN</td>\n",
       "      <td>NaN</td>\n",
       "      <td>NaN</td>\n",
       "      <td>NaN</td>\n",
       "      <td>Kolkata Knight Riders</td>\n",
       "      <td>Royal Challengers Bangalore</td>\n",
       "    </tr>\n",
       "    <tr>\n",
       "      <th>4</th>\n",
       "      <td>335982</td>\n",
       "      <td>1</td>\n",
       "      <td>7</td>\n",
       "      <td>3</td>\n",
       "      <td>RT Ponting</td>\n",
       "      <td>BB McCullum</td>\n",
       "      <td>Z Khan</td>\n",
       "      <td>1</td>\n",
       "      <td>0</td>\n",
       "      <td>1</td>\n",
       "      <td>0</td>\n",
       "      <td>0</td>\n",
       "      <td>NaN</td>\n",
       "      <td>NaN</td>\n",
       "      <td>NaN</td>\n",
       "      <td>NaN</td>\n",
       "      <td>Kolkata Knight Riders</td>\n",
       "      <td>Royal Challengers Bangalore</td>\n",
       "    </tr>\n",
       "  </tbody>\n",
       "</table>\n",
       "</div>"
      ],
      "text/plain": [
       "       id  inning  over  ball      batsman  non_striker     bowler  \\\n",
       "0  335982       1     6     5   RT Ponting  BB McCullum  AA Noffke   \n",
       "1  335982       1     6     6  BB McCullum   RT Ponting  AA Noffke   \n",
       "2  335982       1     7     1  BB McCullum   RT Ponting     Z Khan   \n",
       "3  335982       1     7     2  BB McCullum   RT Ponting     Z Khan   \n",
       "4  335982       1     7     3   RT Ponting  BB McCullum     Z Khan   \n",
       "\n",
       "   batsman_runs  extra_runs  total_runs  non_boundary  is_wicket  \\\n",
       "0             1           0           1             0          0   \n",
       "1             1           0           1             0          0   \n",
       "2             0           0           0             0          0   \n",
       "3             1           0           1             0          0   \n",
       "4             1           0           1             0          0   \n",
       "\n",
       "  dismissal_kind player_dismissed fielder extras_type           batting_team  \\\n",
       "0            NaN              NaN     NaN         NaN  Kolkata Knight Riders   \n",
       "1            NaN              NaN     NaN         NaN  Kolkata Knight Riders   \n",
       "2            NaN              NaN     NaN         NaN  Kolkata Knight Riders   \n",
       "3            NaN              NaN     NaN         NaN  Kolkata Knight Riders   \n",
       "4            NaN              NaN     NaN         NaN  Kolkata Knight Riders   \n",
       "\n",
       "                  bowling_team  \n",
       "0  Royal Challengers Bangalore  \n",
       "1  Royal Challengers Bangalore  \n",
       "2  Royal Challengers Bangalore  \n",
       "3  Royal Challengers Bangalore  \n",
       "4  Royal Challengers Bangalore  "
      ]
     },
     "execution_count": 4,
     "metadata": {},
     "output_type": "execute_result"
    }
   ],
   "source": [
    "df1 = pd.read_csv('/kaggle/input/ipl-complete-dataset-20082020/IPL Ball-by-Ball 2008-2020.csv')\n",
    "df1.head()"
   ]
  },
  {
   "cell_type": "code",
   "execution_count": 5,
   "id": "55f45078",
   "metadata": {
    "execution": {
     "iopub.execute_input": "2022-11-28T19:25:27.714961Z",
     "iopub.status.busy": "2022-11-28T19:25:27.714558Z",
     "iopub.status.idle": "2022-11-28T19:25:27.733640Z",
     "shell.execute_reply": "2022-11-28T19:25:27.732134Z"
    },
    "papermill": {
     "duration": 0.030323,
     "end_time": "2022-11-28T19:25:27.736403",
     "exception": false,
     "start_time": "2022-11-28T19:25:27.706080",
     "status": "completed"
    },
    "tags": []
   },
   "outputs": [
    {
     "data": {
      "text/html": [
       "<div>\n",
       "<style scoped>\n",
       "    .dataframe tbody tr th:only-of-type {\n",
       "        vertical-align: middle;\n",
       "    }\n",
       "\n",
       "    .dataframe tbody tr th {\n",
       "        vertical-align: top;\n",
       "    }\n",
       "\n",
       "    .dataframe thead th {\n",
       "        text-align: right;\n",
       "    }\n",
       "</style>\n",
       "<table border=\"1\" class=\"dataframe\">\n",
       "  <thead>\n",
       "    <tr style=\"text-align: right;\">\n",
       "      <th></th>\n",
       "      <th>venue</th>\n",
       "      <th>team1</th>\n",
       "      <th>team2</th>\n",
       "      <th>toss_winner</th>\n",
       "      <th>toss_decision</th>\n",
       "      <th>winner</th>\n",
       "      <th>result</th>\n",
       "    </tr>\n",
       "  </thead>\n",
       "  <tbody>\n",
       "    <tr>\n",
       "      <th>0</th>\n",
       "      <td>M Chinnaswamy Stadium</td>\n",
       "      <td>Royal Challengers Bangalore</td>\n",
       "      <td>Kolkata Knight Riders</td>\n",
       "      <td>Royal Challengers Bangalore</td>\n",
       "      <td>field</td>\n",
       "      <td>Kolkata Knight Riders</td>\n",
       "      <td>runs</td>\n",
       "    </tr>\n",
       "    <tr>\n",
       "      <th>1</th>\n",
       "      <td>Punjab Cricket Association Stadium, Mohali</td>\n",
       "      <td>Kings XI Punjab</td>\n",
       "      <td>Chennai Super Kings</td>\n",
       "      <td>Chennai Super Kings</td>\n",
       "      <td>bat</td>\n",
       "      <td>Chennai Super Kings</td>\n",
       "      <td>runs</td>\n",
       "    </tr>\n",
       "    <tr>\n",
       "      <th>2</th>\n",
       "      <td>Feroz Shah Kotla</td>\n",
       "      <td>Delhi Daredevils</td>\n",
       "      <td>Rajasthan Royals</td>\n",
       "      <td>Rajasthan Royals</td>\n",
       "      <td>bat</td>\n",
       "      <td>Delhi Daredevils</td>\n",
       "      <td>wickets</td>\n",
       "    </tr>\n",
       "    <tr>\n",
       "      <th>3</th>\n",
       "      <td>Wankhede Stadium</td>\n",
       "      <td>Mumbai Indians</td>\n",
       "      <td>Royal Challengers Bangalore</td>\n",
       "      <td>Mumbai Indians</td>\n",
       "      <td>bat</td>\n",
       "      <td>Royal Challengers Bangalore</td>\n",
       "      <td>wickets</td>\n",
       "    </tr>\n",
       "    <tr>\n",
       "      <th>4</th>\n",
       "      <td>Eden Gardens</td>\n",
       "      <td>Kolkata Knight Riders</td>\n",
       "      <td>Deccan Chargers</td>\n",
       "      <td>Deccan Chargers</td>\n",
       "      <td>bat</td>\n",
       "      <td>Kolkata Knight Riders</td>\n",
       "      <td>wickets</td>\n",
       "    </tr>\n",
       "  </tbody>\n",
       "</table>\n",
       "</div>"
      ],
      "text/plain": [
       "                                        venue                        team1  \\\n",
       "0                       M Chinnaswamy Stadium  Royal Challengers Bangalore   \n",
       "1  Punjab Cricket Association Stadium, Mohali              Kings XI Punjab   \n",
       "2                            Feroz Shah Kotla             Delhi Daredevils   \n",
       "3                            Wankhede Stadium               Mumbai Indians   \n",
       "4                                Eden Gardens        Kolkata Knight Riders   \n",
       "\n",
       "                         team2                  toss_winner toss_decision  \\\n",
       "0        Kolkata Knight Riders  Royal Challengers Bangalore         field   \n",
       "1          Chennai Super Kings          Chennai Super Kings           bat   \n",
       "2             Rajasthan Royals             Rajasthan Royals           bat   \n",
       "3  Royal Challengers Bangalore               Mumbai Indians           bat   \n",
       "4              Deccan Chargers              Deccan Chargers           bat   \n",
       "\n",
       "                        winner   result  \n",
       "0        Kolkata Knight Riders     runs  \n",
       "1          Chennai Super Kings     runs  \n",
       "2             Delhi Daredevils  wickets  \n",
       "3  Royal Challengers Bangalore  wickets  \n",
       "4        Kolkata Knight Riders  wickets  "
      ]
     },
     "execution_count": 5,
     "metadata": {},
     "output_type": "execute_result"
    }
   ],
   "source": [
    "mdf = df[['venue','team1','team2','toss_winner','toss_decision','winner','result']]\n",
    "mdf.head()"
   ]
  },
  {
   "cell_type": "code",
   "execution_count": 6,
   "id": "d75a501c",
   "metadata": {
    "execution": {
     "iopub.execute_input": "2022-11-28T19:25:27.753102Z",
     "iopub.status.busy": "2022-11-28T19:25:27.752684Z",
     "iopub.status.idle": "2022-11-28T19:25:29.293426Z",
     "shell.execute_reply": "2022-11-28T19:25:29.291907Z"
    },
    "papermill": {
     "duration": 1.552508,
     "end_time": "2022-11-28T19:25:29.296339",
     "exception": false,
     "start_time": "2022-11-28T19:25:27.743831",
     "status": "completed"
    },
    "tags": []
   },
   "outputs": [],
   "source": [
    "import plotly.express as px"
   ]
  },
  {
   "cell_type": "code",
   "execution_count": null,
   "id": "a8af2046",
   "metadata": {
    "papermill": {
     "duration": 0.01014,
     "end_time": "2022-11-28T19:25:29.314567",
     "exception": false,
     "start_time": "2022-11-28T19:25:29.304427",
     "status": "completed"
    },
    "tags": []
   },
   "outputs": [],
   "source": []
  },
  {
   "cell_type": "code",
   "execution_count": 7,
   "id": "a0be3b57",
   "metadata": {
    "execution": {
     "iopub.execute_input": "2022-11-28T19:25:29.333747Z",
     "iopub.status.busy": "2022-11-28T19:25:29.333197Z",
     "iopub.status.idle": "2022-11-28T19:25:30.483055Z",
     "shell.execute_reply": "2022-11-28T19:25:30.481668Z"
    },
    "papermill": {
     "duration": 1.163929,
     "end_time": "2022-11-28T19:25:30.485876",
     "exception": false,
     "start_time": "2022-11-28T19:25:29.321947",
     "status": "completed"
    },
    "tags": []
   },
   "outputs": [
    {
     "data": {
      "text/html": [
       "        <script type=\"text/javascript\">\n",
       "        window.PlotlyConfig = {MathJaxConfig: 'local'};\n",
       "        if (window.MathJax && window.MathJax.Hub && window.MathJax.Hub.Config) {window.MathJax.Hub.Config({SVG: {font: \"STIX-Web\"}});}\n",
       "        if (typeof require !== 'undefined') {\n",
       "        require.undef(\"plotly\");\n",
       "        requirejs.config({\n",
       "            paths: {\n",
       "                'plotly': ['https://cdn.plot.ly/plotly-2.14.0.min']\n",
       "            }\n",
       "        });\n",
       "        require(['plotly'], function(Plotly) {\n",
       "            window._Plotly = Plotly;\n",
       "        });\n",
       "        }\n",
       "        </script>\n",
       "        "
      ]
     },
     "metadata": {},
     "output_type": "display_data"
    },
    {
     "data": {
      "text/html": [
       "<div>                            <div id=\"5c67ef1b-b0c0-4919-a912-fa9c039924fc\" class=\"plotly-graph-div\" style=\"height:525px; width:100%;\"></div>            <script type=\"text/javascript\">                require([\"plotly\"], function(Plotly) {                    window.PLOTLYENV=window.PLOTLYENV || {};                                    if (document.getElementById(\"5c67ef1b-b0c0-4919-a912-fa9c039924fc\")) {                    Plotly.newPlot(                        \"5c67ef1b-b0c0-4919-a912-fa9c039924fc\",                        [{\"alignmentgroup\":\"True\",\"bingroup\":\"x\",\"hovertemplate\":\"venue=%{x}<br>count=%{y}<extra></extra>\",\"legendgroup\":\"\",\"marker\":{\"color\":\"#636efa\",\"pattern\":{\"shape\":\"\"}},\"name\":\"\",\"offsetgroup\":\"\",\"orientation\":\"v\",\"showlegend\":false,\"x\":[\"M Chinnaswamy Stadium\",\"Punjab Cricket Association Stadium, Mohali\",\"Feroz Shah Kotla\",\"Wankhede Stadium\",\"Eden Gardens\",\"Sawai Mansingh Stadium\",\"Rajiv Gandhi International Stadium, Uppal\",\"MA Chidambaram Stadium, Chepauk\",\"Rajiv Gandhi International Stadium, Uppal\",\"Punjab Cricket Association Stadium, Mohali\",\"M Chinnaswamy Stadium\",\"MA Chidambaram Stadium, Chepauk\",\"Dr DY Patil Sports Academy\",\"Punjab Cricket Association Stadium, Mohali\",\"M Chinnaswamy Stadium\",\"Eden Gardens\",\"Feroz Shah Kotla\",\"Rajiv Gandhi International Stadium, Uppal\",\"Sawai Mansingh Stadium\",\"MA Chidambaram Stadium, Chepauk\",\"Rajiv Gandhi International Stadium, Uppal\",\"Punjab Cricket Association Stadium, Mohali\",\"Dr DY Patil Sports Academy\",\"Sawai Mansingh Stadium\",\"M Chinnaswamy Stadium\",\"MA Chidambaram Stadium, Chepauk\",\"Dr DY Patil Sports Academy\",\"Feroz Shah Kotla\",\"Eden Gardens\",\"Sawai Mansingh Stadium\",\"M Chinnaswamy Stadium\",\"MA Chidambaram Stadium, Chepauk\",\"Rajiv Gandhi International Stadium, Uppal\",\"Sawai Mansingh Stadium\",\"Punjab Cricket Association Stadium, Mohali\",\"Eden Gardens\",\"Wankhede Stadium\",\"Punjab Cricket Association Stadium, Mohali\",\"Feroz Shah Kotla\",\"Wankhede Stadium\",\"Feroz Shah Kotla\",\"Sawai Mansingh Stadium\",\"Rajiv Gandhi International Stadium, Uppal\",\"Eden Gardens\",\"M Chinnaswamy Stadium\",\"Eden Gardens\",\"Wankhede Stadium\",\"MA Chidambaram Stadium, Chepauk\",\"Punjab Cricket Association Stadium, Mohali\",\"Feroz Shah Kotla\",\"MA Chidambaram Stadium, Chepauk\",\"M Chinnaswamy Stadium\",\"Eden Gardens\",\"Sawai Mansingh Stadium\",\"Rajiv Gandhi International Stadium, Uppal\",\"Wankhede Stadium\",\"Wankhede Stadium\",\"Dr DY Patil Sports Academy\",\"Newlands\",\"Newlands\",\"Newlands\",\"Newlands\",\"St George's Park\",\"Kingsmead\",\"Newlands\",\"Kingsmead\",\"Newlands\",\"Kingsmead\",\"Kingsmead\",\"St George's Park\",\"Newlands\",\"Kingsmead\",\"St George's Park\",\"SuperSport Park\",\"Kingsmead\",\"Kingsmead\",\"SuperSport Park\",\"SuperSport Park\",\"Buffalo Park\",\"Kingsmead\",\"St George's Park\",\"New Wanderers Stadium\",\"St George's Park\",\"New Wanderers Stadium\",\"Buffalo Park\",\"Kingsmead\",\"Kingsmead\",\"SuperSport Park\",\"SuperSport Park\",\"SuperSport Park\",\"Buffalo Park\",\"De Beers Diamond Oval\",\"De Beers Diamond Oval\",\"St George's Park\",\"New Wanderers Stadium\",\"De Beers Diamond Oval\",\"SuperSport Park\",\"SuperSport Park\",\"Kingsmead\",\"Kingsmead\",\"Kingsmead\",\"OUTsurance Oval\",\"St George's Park\",\"New Wanderers Stadium\",\"New Wanderers Stadium\",\"OUTsurance Oval\",\"SuperSport Park\",\"New Wanderers Stadium\",\"Kingsmead\",\"Kingsmead\",\"SuperSport Park\",\"SuperSport Park\",\"SuperSport Park\",\"New Wanderers Stadium\",\"New Wanderers Stadium\",\"Dr DY Patil Sports Academy\",\"Brabourne Stadium\",\"Punjab Cricket Association Stadium, Mohali\",\"Eden Gardens\",\"MA Chidambaram Stadium, Chepauk\",\"Sardar Patel Stadium, Motera\",\"M Chinnaswamy Stadium\",\"Eden Gardens\",\"Feroz Shah Kotla\",\"M Chinnaswamy Stadium\",\"Feroz Shah Kotla\",\"Barabati Stadium\",\"Sardar Patel Stadium, Motera\",\"Brabourne Stadium\",\"Barabati Stadium\",\"MA Chidambaram Stadium, Chepauk\",\"Brabourne Stadium\",\"M Chinnaswamy Stadium\",\"Punjab Cricket Association Stadium, Mohali\",\"Brabourne Stadium\",\"Sardar Patel Stadium, Motera\",\"Punjab Cricket Association Stadium, Mohali\",\"M Chinnaswamy Stadium\",\"Sardar Patel Stadium, Motera\",\"Dr DY Patil Sports Academy\",\"Feroz Shah Kotla\",\"Brabourne Stadium\",\"MA Chidambaram Stadium, Chepauk\",\"Feroz Shah Kotla\",\"Eden Gardens\",\"Punjab Cricket Association Stadium, Mohali\",\"MA Chidambaram Stadium, Chepauk\",\"Brabourne Stadium\",\"Eden Gardens\",\"Feroz Shah Kotla\",\"Vidarbha Cricket Association Stadium, Jamtha\",\"MA Chidambaram Stadium, Chepauk\",\"Sawai Mansingh Stadium\",\"Eden Gardens\",\"M Chinnaswamy Stadium\",\"Punjab Cricket Association Stadium, Mohali\",\"Vidarbha Cricket Association Stadium, Jamtha\",\"M Chinnaswamy Stadium\",\"Feroz Shah Kotla\",\"Sawai Mansingh Stadium\",\"Vidarbha Cricket Association Stadium, Jamtha\",\"Brabourne Stadium\",\"MA Chidambaram Stadium, Chepauk\",\"Sawai Mansingh Stadium\",\"MA Chidambaram Stadium, Chepauk\",\"Himachal Pradesh Cricket Association Stadium\",\"M Chinnaswamy Stadium\",\"Eden Gardens\",\"Himachal Pradesh Cricket Association Stadium\",\"Feroz Shah Kotla\",\"Eden Gardens\",\"Dr DY Patil Sports Academy\",\"Dr DY Patil Sports Academy\",\"Dr DY Patil Sports Academy\",\"Dr DY Patil Sports Academy\",\"MA Chidambaram Stadium, Chepauk\",\"Rajiv Gandhi International Stadium, Uppal\",\"Nehru Stadium\",\"Feroz Shah Kotla\",\"Dr DY Patil Sports Academy\",\"Eden Gardens\",\"Sawai Mansingh Stadium\",\"M Chinnaswamy Stadium\",\"Punjab Cricket Association Stadium, Mohali\",\"Dr DY Patil Sports Academy\",\"Rajiv Gandhi International Stadium, Uppal\",\"Sawai Mansingh Stadium\",\"Wankhede Stadium\",\"MA Chidambaram Stadium, Chepauk\",\"Rajiv Gandhi International Stadium, Uppal\",\"Dr DY Patil Sports Academy\",\"Eden Gardens\",\"Nehru Stadium\",\"Feroz Shah Kotla\",\"Wankhede Stadium\",\"Eden Gardens\",\"Punjab Cricket Association Stadium, Mohali\",\"Wankhede Stadium\",\"Eden Gardens\",\"Feroz Shah Kotla\",\"Rajiv Gandhi International Stadium, Uppal\",\"Sawai Mansingh Stadium\",\"MA Chidambaram Stadium, Chepauk\",\"Feroz Shah Kotla\",\"Dr DY Patil Sports Academy\",\"Nehru Stadium\",\"Feroz Shah Kotla\",\"Sawai Mansingh Stadium\",\"M Chinnaswamy Stadium\",\"Nehru Stadium\",\"Eden Gardens\",\"Sawai Mansingh Stadium\",\"MA Chidambaram Stadium, Chepauk\",\"Wankhede Stadium\",\"Feroz Shah Kotla\",\"Rajiv Gandhi International Stadium, Uppal\",\"MA Chidambaram Stadium, Chepauk\",\"Dr DY Patil Sports Academy\",\"Nehru Stadium\",\"Rajiv Gandhi International Stadium, Uppal\",\"M Chinnaswamy Stadium\",\"Eden Gardens\",\"Wankhede Stadium\",\"M Chinnaswamy Stadium\",\"Punjab Cricket Association Stadium, Mohali\",\"Sawai Mansingh Stadium\",\"Rajiv Gandhi International Stadium, Uppal\",\"Punjab Cricket Association Stadium, Mohali\",\"Sawai Mansingh Stadium\",\"MA Chidambaram Stadium, Chepauk\",\"Holkar Cricket Stadium\",\"M Chinnaswamy Stadium\",\"Wankhede Stadium\",\"Himachal Pradesh Cricket Association Stadium\",\"Holkar Cricket Stadium\",\"Dr DY Patil Sports Academy\",\"Himachal Pradesh Cricket Association Stadium\",\"MA Chidambaram Stadium, Chepauk\",\"Dr DY Patil Sports Academy\",\"Wankhede Stadium\",\"Himachal Pradesh Cricket Association Stadium\",\"Feroz Shah Kotla\",\"M Chinnaswamy Stadium\",\"Eden Gardens\",\"Wankhede Stadium\",\"Wankhede Stadium\",\"MA Chidambaram Stadium, Chepauk\",\"MA Chidambaram Stadium, Chepauk\",\"MA Chidambaram Stadium, Chepauk\",\"Eden Gardens\",\"Wankhede Stadium\",\"Sawai Mansingh Stadium\",\"M Chinnaswamy Stadium\",\"Dr. Y.S. Rajasekhara Reddy ACA-VDCA Cricket Stadium\",\"Sawai Mansingh Stadium\",\"Subrata Roy Sahara Stadium\",\"Dr. Y.S. Rajasekhara Reddy ACA-VDCA Cricket Stadium\",\"M Chinnaswamy Stadium\",\"Feroz Shah Kotla\",\"Wankhede Stadium\",\"MA Chidambaram Stadium, Chepauk\",\"Punjab Cricket Association Stadium, Mohali\",\"Eden Gardens\",\"Feroz Shah Kotla\",\"Subrata Roy Sahara Stadium\",\"Eden Gardens\",\"M Chinnaswamy Stadium\",\"Wankhede Stadium\",\"Sawai Mansingh Stadium\",\"M Chinnaswamy Stadium\",\"Punjab Cricket Association Stadium, Mohali\",\"Rajiv Gandhi International Stadium, Uppal\",\"MA Chidambaram Stadium, Chepauk\",\"Punjab Cricket Association Stadium, Mohali\",\"MA Chidambaram Stadium, Chepauk\",\"Feroz Shah Kotla\",\"Wankhede Stadium\",\"Barabati Stadium\",\"Sawai Mansingh Stadium\",\"Subrata Roy Sahara Stadium\",\"Punjab Cricket Association Stadium, Mohali\",\"Subrata Roy Sahara Stadium\",\"Feroz Shah Kotla\",\"MA Chidambaram Stadium, Chepauk\",\"Eden Gardens\",\"Feroz Shah Kotla\",\"Wankhede Stadium\",\"MA Chidambaram Stadium, Chepauk\",\"Barabati Stadium\",\"Sawai Mansingh Stadium\",\"M Chinnaswamy Stadium\",\"Subrata Roy Sahara Stadium\",\"MA Chidambaram Stadium, Chepauk\",\"Eden Gardens\",\"Punjab Cricket Association Stadium, Mohali\",\"Wankhede Stadium\",\"M Chinnaswamy Stadium\",\"Feroz Shah Kotla\",\"Subrata Roy Sahara Stadium\",\"Rajiv Gandhi International Stadium, Uppal\",\"Wankhede Stadium\",\"Sawai Mansingh Stadium\",\"Subrata Roy Sahara Stadium\",\"Eden Gardens\",\"MA Chidambaram Stadium, Chepauk\",\"Sawai Mansingh Stadium\",\"Punjab Cricket Association Stadium, Mohali\",\"M Chinnaswamy Stadium\",\"Eden Gardens\",\"Feroz Shah Kotla\",\"Wankhede Stadium\",\"Himachal Pradesh Cricket Association Stadium\",\"Feroz Shah Kotla\",\"Rajiv Gandhi International Stadium, Uppal\",\"Himachal Pradesh Cricket Association Stadium\",\"Subrata Roy Sahara Stadium\",\"Rajiv Gandhi International Stadium, Uppal\",\"Sawai Mansingh Stadium\",\"Subrata Roy Sahara Stadium\",\"M Chinnaswamy Stadium\",\"MA Chidambaram Stadium, Chepauk\",\"MA Chidambaram Stadium, Chepauk\",\"Eden Gardens\",\"M Chinnaswamy Stadium\",\"Rajiv Gandhi International Stadium, Uppal\",\"Feroz Shah Kotla\",\"MA Chidambaram Stadium, Chepauk\",\"Subrata Roy Sahara Stadium\",\"Rajiv Gandhi International Stadium, Uppal\",\"Sawai Mansingh Stadium\",\"Wankhede Stadium\",\"Punjab Cricket Association Stadium, Mohali\",\"M Chinnaswamy Stadium\",\"Subrata Roy Sahara Stadium\",\"Feroz Shah Kotla\",\"Wankhede Stadium\",\"MA Chidambaram Stadium, Chepauk\",\"Eden Gardens\",\"Sawai Mansingh Stadium\",\"MA Chidambaram Stadium, Chepauk\",\"Punjab Cricket Association Stadium, Mohali\",\"M Chinnaswamy Stadium\",\"Subrata Roy Sahara Stadium\",\"Sawai Mansingh Stadium\",\"Feroz Shah Kotla\",\"Rajiv Gandhi International Stadium, Uppal\",\"Eden Gardens\",\"M Chinnaswamy Stadium\",\"Feroz Shah Kotla\",\"Punjab Cricket Association Stadium, Mohali\",\"MA Chidambaram Stadium, Chepauk\",\"M Chinnaswamy Stadium\",\"Himachal Pradesh Cricket Association Stadium\",\"Eden Gardens\",\"MA Chidambaram Stadium, Chepauk\",\"Eden Gardens\",\"Sawai Mansingh Stadium\",\"Wankhede Stadium\",\"MA Chidambaram Stadium, Chepauk\",\"Shaheed Veer Narayan Singh International Stadium\",\"Sawai Mansingh Stadium\",\"Wankhede Stadium\",\"Subrata Roy Sahara Stadium\",\"Rajiv Gandhi International Stadium, Uppal\",\"Shaheed Veer Narayan Singh International Stadium\",\"MA Chidambaram Stadium, Chepauk\",\"Subrata Roy Sahara Stadium\",\"Eden Gardens\",\"Rajiv Gandhi International Stadium, Uppal\",\"M Chinnaswamy Stadium\",\"Wankhede Stadium\",\"Sawai Mansingh Stadium\",\"M Chinnaswamy Stadium\",\"Sawai Mansingh Stadium\",\"Wankhede Stadium\",\"Rajiv Gandhi International Stadium, Uppal\",\"Punjab Cricket Association Stadium, Mohali\",\"Subrata Roy Sahara Stadium\",\"Feroz Shah Kotla\",\"Subrata Roy Sahara Stadium\",\"Punjab Cricket Association Stadium, Mohali\",\"JSCA International Stadium Complex\",\"Sawai Mansingh Stadium\",\"Feroz Shah Kotla\",\"Wankhede Stadium\",\"JSCA International Stadium Complex\",\"MA Chidambaram Stadium, Chepauk\",\"Wankhede Stadium\",\"Punjab Cricket Association Stadium, Mohali\",\"Rajiv Gandhi International Stadium, Uppal\",\"Himachal Pradesh Cricket Association Stadium\",\"Subrata Roy Sahara Stadium\",\"M Chinnaswamy Stadium\",\"Rajiv Gandhi International Stadium, Uppal\",\"Feroz Shah Kotla\",\"Feroz Shah Kotla\",\"Eden Gardens\",\"Eden Gardens\",\"Sheikh Zayed Stadium\",\"Sharjah Cricket Stadium\",\"Sheikh Zayed Stadium\",\"Sheikh Zayed Stadium\",\"Dubai International Cricket Stadium\",\"Dubai International Cricket Stadium\",\"Sharjah Cricket Stadium\",\"Sheikh Zayed Stadium\",\"Sharjah Cricket Stadium\",\"Dubai International Cricket Stadium\",\"Sharjah Cricket Stadium\",\"Dubai International Cricket Stadium\",\"Dubai International Cricket Stadium\",\"Sheikh Zayed Stadium\",\"Sheikh Zayed Stadium\",\"Sharjah Cricket Stadium\",\"Sharjah Cricket Stadium\",\"Dubai International Cricket Stadium\",\"Sheikh Zayed Stadium\",\"Dubai International Cricket Stadium\",\"JSCA International Stadium Complex\",\"Wankhede Stadium\",\"Feroz Shah Kotla\",\"M Chinnaswamy Stadium\",\"Sardar Patel Stadium, Motera\",\"Feroz Shah Kotla\",\"Wankhede Stadium\",\"Feroz Shah Kotla\",\"Barabati Stadium\",\"Sardar Patel Stadium, Motera\",\"M Chinnaswamy Stadium\",\"Feroz Shah Kotla\",\"Wankhede Stadium\",\"Barabati Stadium\",\"M Chinnaswamy Stadium\",\"Rajiv Gandhi International Stadium, Uppal\",\"JSCA International Stadium Complex\",\"M Chinnaswamy Stadium\",\"Rajiv Gandhi International Stadium, Uppal\",\"Barabati Stadium\",\"Sardar Patel Stadium, Motera\",\"JSCA International Stadium Complex\",\"Rajiv Gandhi International Stadium, Uppal\",\"Sardar Patel Stadium, Motera\",\"Feroz Shah Kotla\",\"Rajiv Gandhi International Stadium, Uppal\",\"Eden Gardens\",\"Punjab Cricket Association Stadium, Mohali\",\"Eden Gardens\",\"JSCA International Stadium Complex\",\"Wankhede Stadium\",\"Punjab Cricket Association Stadium, Mohali\",\"M Chinnaswamy Stadium\",\"Eden Gardens\",\"Punjab Cricket Association Stadium, Mohali\",\"Wankhede Stadium\",\"Eden Gardens\",\"Brabourne Stadium\",\"Wankhede Stadium\",\"M Chinnaswamy Stadium\",\"Eden Gardens\",\"MA Chidambaram Stadium, Chepauk\",\"Maharashtra Cricket Association Stadium\",\"MA Chidambaram Stadium, Chepauk\",\"Eden Gardens\",\"Feroz Shah Kotla\",\"Wankhede Stadium\",\"M Chinnaswamy Stadium\",\"Sardar Patel Stadium, Motera\",\"Eden Gardens\",\"Maharashtra Cricket Association Stadium\",\"Dr. Y.S. Rajasekhara Reddy ACA-VDCA Cricket Stadium\",\"Wankhede Stadium\",\"Dr. Y.S. Rajasekhara Reddy ACA-VDCA Cricket Stadium\",\"Maharashtra Cricket Association Stadium\",\"Sardar Patel Stadium, Motera\",\"M Chinnaswamy Stadium\",\"Feroz Shah Kotla\",\"Sardar Patel Stadium, Motera\",\"Dr. Y.S. Rajasekhara Reddy ACA-VDCA Cricket Stadium\",\"M Chinnaswamy Stadium\",\"Feroz Shah Kotla\",\"Sardar Patel Stadium, Motera\",\"Wankhede Stadium\",\"MA Chidambaram Stadium, Chepauk\",\"Feroz Shah Kotla\",\"Punjab Cricket Association Stadium, Mohali\",\"Eden Gardens\",\"M Chinnaswamy Stadium\",\"MA Chidambaram Stadium, Chepauk\",\"Feroz Shah Kotla\",\"Wankhede Stadium\",\"M Chinnaswamy Stadium\",\"Rajiv Gandhi International Stadium, Uppal\",\"Punjab Cricket Association Stadium, Mohali\",\"Brabourne Stadium\",\"MA Chidambaram Stadium, Chepauk\",\"Eden Gardens\",\"Wankhede Stadium\",\"M Chinnaswamy Stadium\",\"Brabourne Stadium\",\"MA Chidambaram Stadium, Chepauk\",\"Eden Gardens\",\"Shaheed Veer Narayan Singh International Stadium\",\"Wankhede Stadium\",\"MA Chidambaram Stadium, Chepauk\",\"Rajiv Gandhi International Stadium, Uppal\",\"Shaheed Veer Narayan Singh International Stadium\",\"Punjab Cricket Association Stadium, Mohali\",\"Wankhede Stadium\",\"Rajiv Gandhi International Stadium, Uppal\",\"Punjab Cricket Association Stadium, Mohali\",\"Brabourne Stadium\",\"M Chinnaswamy Stadium\",\"Rajiv Gandhi International Stadium, Uppal\",\"Wankhede Stadium\",\"Maharashtra Cricket Association Stadium\",\"JSCA International Stadium Complex\",\"Eden Gardens\",\"Wankhede Stadium\",\"Eden Gardens\",\"Punjab Cricket Association IS Bindra Stadium, Mohali\",\"M Chinnaswamy Stadium\",\"Eden Gardens\",\"Saurashtra Cricket Association Stadium\",\"Feroz Shah Kotla\",\"Rajiv Gandhi International Stadium, Uppal\",\"Wankhede Stadium\",\"Punjab Cricket Association IS Bindra Stadium, Mohali\",\"M Chinnaswamy Stadium\",\"Rajiv Gandhi International Stadium, Uppal\",\"Punjab Cricket Association IS Bindra Stadium, Mohali\",\"Wankhede Stadium\",\"Saurashtra Cricket Association Stadium\",\"Maharashtra Cricket Association Stadium\",\"Feroz Shah Kotla\",\"Rajiv Gandhi International Stadium, Uppal\",\"Saurashtra Cricket Association Stadium\",\"Maharashtra Cricket Association Stadium\",\"Punjab Cricket Association IS Bindra Stadium, Mohali\",\"Rajiv Gandhi International Stadium, Uppal\",\"Feroz Shah Kotla\",\"Wankhede Stadium\",\"Maharashtra Cricket Association Stadium\",\"Feroz Shah Kotla\",\"Rajiv Gandhi International Stadium, Uppal\",\"Saurashtra Cricket Association Stadium\",\"Maharashtra Cricket Association Stadium\",\"M Chinnaswamy Stadium\",\"Saurashtra Cricket Association Stadium\",\"Eden Gardens\",\"Feroz Shah Kotla\",\"Rajiv Gandhi International Stadium, Uppal\",\"M Chinnaswamy Stadium\",\"Punjab Cricket Association IS Bindra Stadium, Mohali\",\"Dr. Y.S. Rajasekhara Reddy ACA-VDCA Cricket Stadium\",\"Eden Gardens\",\"Punjab Cricket Association IS Bindra Stadium, Mohali\",\"Dr. Y.S. Rajasekhara Reddy ACA-VDCA Cricket Stadium\",\"M Chinnaswamy Stadium\",\"Rajiv Gandhi International Stadium, Uppal\",\"Dr. Y.S. Rajasekhara Reddy ACA-VDCA Cricket Stadium\",\"M Chinnaswamy Stadium\",\"Eden Gardens\",\"Punjab Cricket Association IS Bindra Stadium, Mohali\",\"Dr. Y.S. Rajasekhara Reddy ACA-VDCA Cricket Stadium\",\"Eden Gardens\",\"Dr. Y.S. Rajasekhara Reddy ACA-VDCA Cricket Stadium\",\"M Chinnaswamy Stadium\",\"Green Park\",\"Shaheed Veer Narayan Singh International Stadium\",\"Dr. Y.S. Rajasekhara Reddy ACA-VDCA Cricket Stadium\",\"Green Park\",\"Eden Gardens\",\"Shaheed Veer Narayan Singh International Stadium\",\"M Chinnaswamy Stadium\",\"Feroz Shah Kotla\",\"Feroz Shah Kotla\",\"M Chinnaswamy Stadium\",\"Rajiv Gandhi International Stadium, Uppal\",\"Maharashtra Cricket Association Stadium\",\"Saurashtra Cricket Association Stadium\",\"Holkar Cricket Stadium\",\"M.Chinnaswamy Stadium\",\"Rajiv Gandhi International Stadium, Uppal\",\"Wankhede Stadium\",\"Holkar Cricket Stadium\",\"Maharashtra Cricket Association Stadium\",\"Wankhede Stadium\",\"Eden Gardens\",\"M Chinnaswamy Stadium\",\"Saurashtra Cricket Association Stadium\",\"Eden Gardens\",\"Feroz Shah Kotla\",\"Wankhede Stadium\",\"M Chinnaswamy Stadium\",\"Feroz Shah Kotla\",\"Rajiv Gandhi International Stadium, Uppal\",\"Saurashtra Cricket Association Stadium\",\"Rajiv Gandhi International Stadium, Uppal\",\"Holkar Cricket Stadium\",\"Eden Gardens\",\"Wankhede Stadium\",\"Maharashtra Cricket Association Stadium\",\"Saurashtra Cricket Association Stadium\",\"Eden Gardens\",\"Wankhede Stadium\",\"Maharashtra Cricket Association Stadium\",\"M Chinnaswamy Stadium\",\"Eden Gardens\",\"Punjab Cricket Association IS Bindra Stadium, Mohali\",\"Maharashtra Cricket Association Stadium\",\"Saurashtra Cricket Association Stadium\",\"Punjab Cricket Association IS Bindra Stadium, Mohali\",\"Rajiv Gandhi International Stadium, Uppal\",\"Wankhede Stadium\",\"Maharashtra Cricket Association Stadium\",\"Feroz Shah Kotla\",\"Eden Gardens\",\"Feroz Shah Kotla\",\"M Chinnaswamy Stadium\",\"Rajiv Gandhi International Stadium, Uppal\",\"Feroz Shah Kotla\",\"M Chinnaswamy Stadium\",\"Punjab Cricket Association IS Bindra Stadium, Mohali\",\"Rajiv Gandhi International Stadium, Uppal\",\"Punjab Cricket Association IS Bindra Stadium, Mohali\",\"Green Park\",\"Wankhede Stadium\",\"Feroz Shah Kotla\",\"Green Park\",\"Eden Gardens\",\"Maharashtra Cricket Association Stadium\",\"Feroz Shah Kotla\",\"Wankhede Stadium\",\"M Chinnaswamy Stadium\",\"M Chinnaswamy Stadium\",\"Rajiv Gandhi International Stadium, Uppal\",\"Wankhede Stadium\",\"Punjab Cricket Association IS Bindra Stadium, Mohali\",\"Eden Gardens\",\"Rajiv Gandhi International Stadium, Uppal\",\"MA Chidambaram Stadium, Chepauk\",\"Sawai Mansingh Stadium\",\"Rajiv Gandhi International Stadium, Uppal\",\"M.Chinnaswamy Stadium\",\"Wankhede Stadium\",\"Eden Gardens\",\"M.Chinnaswamy Stadium\",\"Punjab Cricket Association IS Bindra Stadium, Mohali\",\"Eden Gardens\",\"Wankhede Stadium\",\"Sawai Mansingh Stadium\",\"Punjab Cricket Association IS Bindra Stadium, Mohali\",\"Maharashtra Cricket Association Stadium\",\"Eden Gardens\",\"M.Chinnaswamy Stadium\",\"Rajiv Gandhi International Stadium, Uppal\",\"Sawai Mansingh Stadium\",\"Feroz Shah Kotla\",\"Wankhede Stadium\",\"M.Chinnaswamy Stadium\",\"Rajiv Gandhi International Stadium, Uppal\",\"Feroz Shah Kotla\",\"Maharashtra Cricket Association Stadium\",\"Sawai Mansingh Stadium\",\"M.Chinnaswamy Stadium\",\"Maharashtra Cricket Association Stadium\",\"M.Chinnaswamy Stadium\",\"Feroz Shah Kotla\",\"Eden Gardens\",\"Holkar Cricket Stadium\",\"Maharashtra Cricket Association Stadium\",\"Rajiv Gandhi International Stadium, Uppal\",\"Wankhede Stadium\",\"Holkar Cricket Stadium\",\"Rajiv Gandhi International Stadium, Uppal\",\"Sawai Mansingh Stadium\",\"Eden Gardens\",\"Feroz Shah Kotla\",\"Sawai Mansingh Stadium\",\"Holkar Cricket Stadium\",\"Feroz Shah Kotla\",\"Maharashtra Cricket Association Stadium\",\"Wankhede Stadium\",\"Holkar Cricket Stadium\",\"Eden Gardens\",\"Wankhede Stadium\",\"M.Chinnaswamy Stadium\",\"Feroz Shah Kotla\",\"Sawai Mansingh Stadium\",\"Rajiv Gandhi International Stadium, Uppal\",\"Feroz Shah Kotla\",\"Maharashtra Cricket Association Stadium\",\"Wankhede Stadium\",\"Eden Gardens\",\"Eden Gardens\",\"Wankhede Stadium\",\"MA Chidambaram Stadium, Chepauk\",\"Eden Gardens\",\"Wankhede Stadium\",\"Sawai Mansingh Stadium\",\"Feroz Shah Kotla\",\"Eden Gardens\",\"M.Chinnaswamy Stadium\",\"Rajiv Gandhi International Stadium, Uppal\",\"Punjab Cricket Association IS Bindra Stadium, Mohali\",\"Feroz Shah Kotla\",\"Rajiv Gandhi International Stadium, Uppal\",\"MA Chidambaram Stadium, Chepauk\",\"Punjab Cricket Association IS Bindra Stadium, Mohali\",\"Sawai Mansingh Stadium\",\"Wankhede Stadium\",\"Feroz Shah Kotla\",\"M.Chinnaswamy Stadium\",\"MA Chidambaram Stadium, Chepauk\",\"Rajiv Gandhi International Stadium, Uppal\",\"M.Chinnaswamy Stadium\",\"Sawai Mansingh Stadium\",\"Punjab Cricket Association IS Bindra Stadium, Mohali\",\"MA Chidambaram Stadium, Chepauk\",\"Wankhede Stadium\",\"Sawai Mansingh Stadium\",\"Eden Gardens\",\"Wankhede Stadium\",\"Punjab Cricket Association IS Bindra Stadium, Mohali\",\"Eden Gardens\",\"Rajiv Gandhi International Stadium, Uppal\",\"Wankhede Stadium\",\"Punjab Cricket Association IS Bindra Stadium, Mohali\",\"Rajiv Gandhi International Stadium, Uppal\",\"Feroz Shah Kotla\",\"Eden Gardens\",\"Sawai Mansingh Stadium\",\"Feroz Shah Kotla\",\"Rajiv Gandhi International Stadium, Uppal\",\"M.Chinnaswamy Stadium\",\"Sawai Mansingh Stadium\",\"MA Chidambaram Stadium, Chepauk\",\"M.Chinnaswamy Stadium\",\"Eden Gardens\",\"MA Chidambaram Stadium, Chepauk\",\"Sawai Mansingh Stadium\",\"Feroz Shah Kotla\",\"Eden Gardens\",\"Rajiv Gandhi International Stadium, Uppal\",\"M.Chinnaswamy Stadium\",\"MA Chidambaram Stadium, Chepauk\",\"Wankhede Stadium\",\"Punjab Cricket Association IS Bindra Stadium, Mohali\",\"Feroz Shah Kotla\",\"M.Chinnaswamy Stadium\",\"Punjab Cricket Association IS Bindra Stadium, Mohali\",\"Wankhede Stadium\",\"MA Chidambaram Stadium, Chepauk\",\"Dr. Y.S. Rajasekhara Reddy ACA-VDCA Cricket Stadium\",\"Dr. Y.S. Rajasekhara Reddy ACA-VDCA Cricket Stadium\",\"Rajiv Gandhi International Stadium, Uppal\",\"Sheikh Zayed Stadium\",\"Dubai International Cricket Stadium\",\"Sheikh Zayed Stadium\",\"Sharjah Cricket Stadium\",\"Sharjah Cricket Stadium\",\"Sheikh Zayed Stadium\",\"Dubai International Cricket Stadium\",\"Sheikh Zayed Stadium\",\"Sharjah Cricket Stadium\",\"Sheikh Zayed Stadium\",\"Sharjah Cricket Stadium\",\"Sheikh Zayed Stadium\",\"Dubai International Cricket Stadium\",\"Sheikh Zayed Stadium\",\"Sheikh Zayed Stadium\",\"Dubai International Cricket Stadium\",\"Sheikh Zayed Stadium\",\"Sharjah Cricket Stadium\",\"Dubai International Cricket Stadium\",\"Sheikh Zayed Stadium\",\"Sheikh Zayed Stadium\",\"Dubai International Cricket Stadium\",\"Sheikh Zayed Stadium\",\"Sharjah Cricket Stadium\",\"Dubai International Cricket Stadium\",\"Dubai International Cricket Stadium\",\"Dubai International Cricket Stadium\",\"Dubai International Cricket Stadium\",\"Sharjah Cricket Stadium\",\"Sharjah Cricket Stadium\",\"Dubai International Cricket Stadium\",\"Sheikh Zayed Stadium\",\"Dubai International Cricket Stadium\",\"Dubai International Cricket Stadium\",\"Sheikh Zayed Stadium\",\"Sharjah Cricket Stadium\",\"Dubai International Cricket Stadium\",\"Sheikh Zayed Stadium\",\"Dubai International Cricket Stadium\",\"Sharjah Cricket Stadium\",\"Sheikh Zayed Stadium\",\"Sheikh Zayed Stadium\",\"Dubai International Cricket Stadium\",\"Dubai International Cricket Stadium\",\"Dubai International Cricket Stadium\",\"Sheikh Zayed Stadium\",\"Sharjah Cricket Stadium\",\"Dubai International Cricket Stadium\",\"Sharjah Cricket Stadium\",\"Sheikh Zayed Stadium\",\"Dubai International Cricket Stadium\",\"Dubai International Cricket Stadium\",\"Dubai International Cricket Stadium\",\"Sheikh Zayed Stadium\",\"Dubai International Cricket Stadium\",\"Dubai International Cricket Stadium\",\"Dubai International Cricket Stadium\",\"Sheikh Zayed Stadium\",\"Sheikh Zayed Stadium\",\"Dubai International Cricket Stadium\"],\"xaxis\":\"x\",\"yaxis\":\"y\",\"type\":\"histogram\"}],                        {\"template\":{\"data\":{\"histogram2dcontour\":[{\"type\":\"histogram2dcontour\",\"colorbar\":{\"outlinewidth\":0,\"ticks\":\"\"},\"colorscale\":[[0.0,\"#0d0887\"],[0.1111111111111111,\"#46039f\"],[0.2222222222222222,\"#7201a8\"],[0.3333333333333333,\"#9c179e\"],[0.4444444444444444,\"#bd3786\"],[0.5555555555555556,\"#d8576b\"],[0.6666666666666666,\"#ed7953\"],[0.7777777777777778,\"#fb9f3a\"],[0.8888888888888888,\"#fdca26\"],[1.0,\"#f0f921\"]]}],\"choropleth\":[{\"type\":\"choropleth\",\"colorbar\":{\"outlinewidth\":0,\"ticks\":\"\"}}],\"histogram2d\":[{\"type\":\"histogram2d\",\"colorbar\":{\"outlinewidth\":0,\"ticks\":\"\"},\"colorscale\":[[0.0,\"#0d0887\"],[0.1111111111111111,\"#46039f\"],[0.2222222222222222,\"#7201a8\"],[0.3333333333333333,\"#9c179e\"],[0.4444444444444444,\"#bd3786\"],[0.5555555555555556,\"#d8576b\"],[0.6666666666666666,\"#ed7953\"],[0.7777777777777778,\"#fb9f3a\"],[0.8888888888888888,\"#fdca26\"],[1.0,\"#f0f921\"]]}],\"heatmap\":[{\"type\":\"heatmap\",\"colorbar\":{\"outlinewidth\":0,\"ticks\":\"\"},\"colorscale\":[[0.0,\"#0d0887\"],[0.1111111111111111,\"#46039f\"],[0.2222222222222222,\"#7201a8\"],[0.3333333333333333,\"#9c179e\"],[0.4444444444444444,\"#bd3786\"],[0.5555555555555556,\"#d8576b\"],[0.6666666666666666,\"#ed7953\"],[0.7777777777777778,\"#fb9f3a\"],[0.8888888888888888,\"#fdca26\"],[1.0,\"#f0f921\"]]}],\"heatmapgl\":[{\"type\":\"heatmapgl\",\"colorbar\":{\"outlinewidth\":0,\"ticks\":\"\"},\"colorscale\":[[0.0,\"#0d0887\"],[0.1111111111111111,\"#46039f\"],[0.2222222222222222,\"#7201a8\"],[0.3333333333333333,\"#9c179e\"],[0.4444444444444444,\"#bd3786\"],[0.5555555555555556,\"#d8576b\"],[0.6666666666666666,\"#ed7953\"],[0.7777777777777778,\"#fb9f3a\"],[0.8888888888888888,\"#fdca26\"],[1.0,\"#f0f921\"]]}],\"contourcarpet\":[{\"type\":\"contourcarpet\",\"colorbar\":{\"outlinewidth\":0,\"ticks\":\"\"}}],\"contour\":[{\"type\":\"contour\",\"colorbar\":{\"outlinewidth\":0,\"ticks\":\"\"},\"colorscale\":[[0.0,\"#0d0887\"],[0.1111111111111111,\"#46039f\"],[0.2222222222222222,\"#7201a8\"],[0.3333333333333333,\"#9c179e\"],[0.4444444444444444,\"#bd3786\"],[0.5555555555555556,\"#d8576b\"],[0.6666666666666666,\"#ed7953\"],[0.7777777777777778,\"#fb9f3a\"],[0.8888888888888888,\"#fdca26\"],[1.0,\"#f0f921\"]]}],\"surface\":[{\"type\":\"surface\",\"colorbar\":{\"outlinewidth\":0,\"ticks\":\"\"},\"colorscale\":[[0.0,\"#0d0887\"],[0.1111111111111111,\"#46039f\"],[0.2222222222222222,\"#7201a8\"],[0.3333333333333333,\"#9c179e\"],[0.4444444444444444,\"#bd3786\"],[0.5555555555555556,\"#d8576b\"],[0.6666666666666666,\"#ed7953\"],[0.7777777777777778,\"#fb9f3a\"],[0.8888888888888888,\"#fdca26\"],[1.0,\"#f0f921\"]]}],\"mesh3d\":[{\"type\":\"mesh3d\",\"colorbar\":{\"outlinewidth\":0,\"ticks\":\"\"}}],\"scatter\":[{\"fillpattern\":{\"fillmode\":\"overlay\",\"size\":10,\"solidity\":0.2},\"type\":\"scatter\"}],\"parcoords\":[{\"type\":\"parcoords\",\"line\":{\"colorbar\":{\"outlinewidth\":0,\"ticks\":\"\"}}}],\"scatterpolargl\":[{\"type\":\"scatterpolargl\",\"marker\":{\"colorbar\":{\"outlinewidth\":0,\"ticks\":\"\"}}}],\"bar\":[{\"error_x\":{\"color\":\"#2a3f5f\"},\"error_y\":{\"color\":\"#2a3f5f\"},\"marker\":{\"line\":{\"color\":\"#E5ECF6\",\"width\":0.5},\"pattern\":{\"fillmode\":\"overlay\",\"size\":10,\"solidity\":0.2}},\"type\":\"bar\"}],\"scattergeo\":[{\"type\":\"scattergeo\",\"marker\":{\"colorbar\":{\"outlinewidth\":0,\"ticks\":\"\"}}}],\"scatterpolar\":[{\"type\":\"scatterpolar\",\"marker\":{\"colorbar\":{\"outlinewidth\":0,\"ticks\":\"\"}}}],\"histogram\":[{\"marker\":{\"pattern\":{\"fillmode\":\"overlay\",\"size\":10,\"solidity\":0.2}},\"type\":\"histogram\"}],\"scattergl\":[{\"type\":\"scattergl\",\"marker\":{\"colorbar\":{\"outlinewidth\":0,\"ticks\":\"\"}}}],\"scatter3d\":[{\"type\":\"scatter3d\",\"line\":{\"colorbar\":{\"outlinewidth\":0,\"ticks\":\"\"}},\"marker\":{\"colorbar\":{\"outlinewidth\":0,\"ticks\":\"\"}}}],\"scattermapbox\":[{\"type\":\"scattermapbox\",\"marker\":{\"colorbar\":{\"outlinewidth\":0,\"ticks\":\"\"}}}],\"scatterternary\":[{\"type\":\"scatterternary\",\"marker\":{\"colorbar\":{\"outlinewidth\":0,\"ticks\":\"\"}}}],\"scattercarpet\":[{\"type\":\"scattercarpet\",\"marker\":{\"colorbar\":{\"outlinewidth\":0,\"ticks\":\"\"}}}],\"carpet\":[{\"aaxis\":{\"endlinecolor\":\"#2a3f5f\",\"gridcolor\":\"white\",\"linecolor\":\"white\",\"minorgridcolor\":\"white\",\"startlinecolor\":\"#2a3f5f\"},\"baxis\":{\"endlinecolor\":\"#2a3f5f\",\"gridcolor\":\"white\",\"linecolor\":\"white\",\"minorgridcolor\":\"white\",\"startlinecolor\":\"#2a3f5f\"},\"type\":\"carpet\"}],\"table\":[{\"cells\":{\"fill\":{\"color\":\"#EBF0F8\"},\"line\":{\"color\":\"white\"}},\"header\":{\"fill\":{\"color\":\"#C8D4E3\"},\"line\":{\"color\":\"white\"}},\"type\":\"table\"}],\"barpolar\":[{\"marker\":{\"line\":{\"color\":\"#E5ECF6\",\"width\":0.5},\"pattern\":{\"fillmode\":\"overlay\",\"size\":10,\"solidity\":0.2}},\"type\":\"barpolar\"}],\"pie\":[{\"automargin\":true,\"type\":\"pie\"}]},\"layout\":{\"autotypenumbers\":\"strict\",\"colorway\":[\"#636efa\",\"#EF553B\",\"#00cc96\",\"#ab63fa\",\"#FFA15A\",\"#19d3f3\",\"#FF6692\",\"#B6E880\",\"#FF97FF\",\"#FECB52\"],\"font\":{\"color\":\"#2a3f5f\"},\"hovermode\":\"closest\",\"hoverlabel\":{\"align\":\"left\"},\"paper_bgcolor\":\"white\",\"plot_bgcolor\":\"#E5ECF6\",\"polar\":{\"bgcolor\":\"#E5ECF6\",\"angularaxis\":{\"gridcolor\":\"white\",\"linecolor\":\"white\",\"ticks\":\"\"},\"radialaxis\":{\"gridcolor\":\"white\",\"linecolor\":\"white\",\"ticks\":\"\"}},\"ternary\":{\"bgcolor\":\"#E5ECF6\",\"aaxis\":{\"gridcolor\":\"white\",\"linecolor\":\"white\",\"ticks\":\"\"},\"baxis\":{\"gridcolor\":\"white\",\"linecolor\":\"white\",\"ticks\":\"\"},\"caxis\":{\"gridcolor\":\"white\",\"linecolor\":\"white\",\"ticks\":\"\"}},\"coloraxis\":{\"colorbar\":{\"outlinewidth\":0,\"ticks\":\"\"}},\"colorscale\":{\"sequential\":[[0.0,\"#0d0887\"],[0.1111111111111111,\"#46039f\"],[0.2222222222222222,\"#7201a8\"],[0.3333333333333333,\"#9c179e\"],[0.4444444444444444,\"#bd3786\"],[0.5555555555555556,\"#d8576b\"],[0.6666666666666666,\"#ed7953\"],[0.7777777777777778,\"#fb9f3a\"],[0.8888888888888888,\"#fdca26\"],[1.0,\"#f0f921\"]],\"sequentialminus\":[[0.0,\"#0d0887\"],[0.1111111111111111,\"#46039f\"],[0.2222222222222222,\"#7201a8\"],[0.3333333333333333,\"#9c179e\"],[0.4444444444444444,\"#bd3786\"],[0.5555555555555556,\"#d8576b\"],[0.6666666666666666,\"#ed7953\"],[0.7777777777777778,\"#fb9f3a\"],[0.8888888888888888,\"#fdca26\"],[1.0,\"#f0f921\"]],\"diverging\":[[0,\"#8e0152\"],[0.1,\"#c51b7d\"],[0.2,\"#de77ae\"],[0.3,\"#f1b6da\"],[0.4,\"#fde0ef\"],[0.5,\"#f7f7f7\"],[0.6,\"#e6f5d0\"],[0.7,\"#b8e186\"],[0.8,\"#7fbc41\"],[0.9,\"#4d9221\"],[1,\"#276419\"]]},\"xaxis\":{\"gridcolor\":\"white\",\"linecolor\":\"white\",\"ticks\":\"\",\"title\":{\"standoff\":15},\"zerolinecolor\":\"white\",\"automargin\":true,\"zerolinewidth\":2},\"yaxis\":{\"gridcolor\":\"white\",\"linecolor\":\"white\",\"ticks\":\"\",\"title\":{\"standoff\":15},\"zerolinecolor\":\"white\",\"automargin\":true,\"zerolinewidth\":2},\"scene\":{\"xaxis\":{\"backgroundcolor\":\"#E5ECF6\",\"gridcolor\":\"white\",\"linecolor\":\"white\",\"showbackground\":true,\"ticks\":\"\",\"zerolinecolor\":\"white\",\"gridwidth\":2},\"yaxis\":{\"backgroundcolor\":\"#E5ECF6\",\"gridcolor\":\"white\",\"linecolor\":\"white\",\"showbackground\":true,\"ticks\":\"\",\"zerolinecolor\":\"white\",\"gridwidth\":2},\"zaxis\":{\"backgroundcolor\":\"#E5ECF6\",\"gridcolor\":\"white\",\"linecolor\":\"white\",\"showbackground\":true,\"ticks\":\"\",\"zerolinecolor\":\"white\",\"gridwidth\":2}},\"shapedefaults\":{\"line\":{\"color\":\"#2a3f5f\"}},\"annotationdefaults\":{\"arrowcolor\":\"#2a3f5f\",\"arrowhead\":0,\"arrowwidth\":1},\"geo\":{\"bgcolor\":\"white\",\"landcolor\":\"#E5ECF6\",\"subunitcolor\":\"white\",\"showland\":true,\"showlakes\":true,\"lakecolor\":\"white\"},\"title\":{\"x\":0.05},\"mapbox\":{\"style\":\"light\"}}},\"xaxis\":{\"anchor\":\"y\",\"domain\":[0.0,1.0],\"title\":{\"text\":\"venue\"}},\"yaxis\":{\"anchor\":\"x\",\"domain\":[0.0,1.0],\"title\":{\"text\":\"count\"}},\"legend\":{\"tracegroupgap\":0},\"margin\":{\"t\":60},\"barmode\":\"relative\"},                        {\"responsive\": true}                    ).then(function(){\n",
       "                            \n",
       "var gd = document.getElementById('5c67ef1b-b0c0-4919-a912-fa9c039924fc');\n",
       "var x = new MutationObserver(function (mutations, observer) {{\n",
       "        var display = window.getComputedStyle(gd).display;\n",
       "        if (!display || display === 'none') {{\n",
       "            console.log([gd, 'removed!']);\n",
       "            Plotly.purge(gd);\n",
       "            observer.disconnect();\n",
       "        }}\n",
       "}});\n",
       "\n",
       "// Listen for the removal of the full notebook cells\n",
       "var notebookContainer = gd.closest('#notebook-container');\n",
       "if (notebookContainer) {{\n",
       "    x.observe(notebookContainer, {childList: true});\n",
       "}}\n",
       "\n",
       "// Listen for the clearing of the current output cell\n",
       "var outputEl = gd.closest('.output');\n",
       "if (outputEl) {{\n",
       "    x.observe(outputEl, {childList: true});\n",
       "}}\n",
       "\n",
       "                        })                };                });            </script>        </div>"
      ]
     },
     "metadata": {},
     "output_type": "display_data"
    }
   ],
   "source": [
    "px.histogram(mdf,x='venue')"
   ]
  },
  {
   "cell_type": "code",
   "execution_count": 8,
   "id": "0e55f4cf",
   "metadata": {
    "execution": {
     "iopub.execute_input": "2022-11-28T19:25:30.505469Z",
     "iopub.status.busy": "2022-11-28T19:25:30.505007Z",
     "iopub.status.idle": "2022-11-28T19:25:30.514939Z",
     "shell.execute_reply": "2022-11-28T19:25:30.513368Z"
    },
    "papermill": {
     "duration": 0.023601,
     "end_time": "2022-11-28T19:25:30.517760",
     "exception": false,
     "start_time": "2022-11-28T19:25:30.494159",
     "status": "completed"
    },
    "tags": []
   },
   "outputs": [],
   "source": [
    "mdf = mdf.dropna()"
   ]
  },
  {
   "cell_type": "code",
   "execution_count": 9,
   "id": "afb2e5c9",
   "metadata": {
    "execution": {
     "iopub.execute_input": "2022-11-28T19:25:30.537780Z",
     "iopub.status.busy": "2022-11-28T19:25:30.537007Z",
     "iopub.status.idle": "2022-11-28T19:25:31.277344Z",
     "shell.execute_reply": "2022-11-28T19:25:31.275472Z"
    },
    "papermill": {
     "duration": 0.754659,
     "end_time": "2022-11-28T19:25:31.280964",
     "exception": false,
     "start_time": "2022-11-28T19:25:30.526305",
     "status": "completed"
    },
    "tags": []
   },
   "outputs": [],
   "source": [
    "from sklearn.preprocessing import LabelEncoder\n",
    "le = LabelEncoder()\n",
    "le = le.fit(mdf.team1)\n",
    "mdf['team1'] = le.transform(mdf['team1'])\n",
    "mdf['team2'] = le.transform(mdf['team2'])\n",
    "mdf['toss_winner'] = le.transform(mdf['toss_winner'])\n",
    "mdf['winner'] = le.transform(mdf['winner'])"
   ]
  },
  {
   "cell_type": "code",
   "execution_count": 10,
   "id": "d902bc2e",
   "metadata": {
    "execution": {
     "iopub.execute_input": "2022-11-28T19:25:31.300388Z",
     "iopub.status.busy": "2022-11-28T19:25:31.299932Z",
     "iopub.status.idle": "2022-11-28T19:25:31.311992Z",
     "shell.execute_reply": "2022-11-28T19:25:31.310608Z"
    },
    "papermill": {
     "duration": 0.025342,
     "end_time": "2022-11-28T19:25:31.314962",
     "exception": false,
     "start_time": "2022-11-28T19:25:31.289620",
     "status": "completed"
    },
    "tags": []
   },
   "outputs": [
    {
     "data": {
      "text/plain": [
       "venue            False\n",
       "team1            False\n",
       "team2            False\n",
       "toss_winner      False\n",
       "toss_decision    False\n",
       "winner           False\n",
       "result           False\n",
       "dtype: bool"
      ]
     },
     "execution_count": 10,
     "metadata": {},
     "output_type": "execute_result"
    }
   ],
   "source": [
    "mdf.isnull().any()"
   ]
  },
  {
   "cell_type": "code",
   "execution_count": 11,
   "id": "fa7207aa",
   "metadata": {
    "execution": {
     "iopub.execute_input": "2022-11-28T19:25:31.333728Z",
     "iopub.status.busy": "2022-11-28T19:25:31.333270Z",
     "iopub.status.idle": "2022-11-28T19:25:31.340444Z",
     "shell.execute_reply": "2022-11-28T19:25:31.339111Z"
    },
    "papermill": {
     "duration": 0.019362,
     "end_time": "2022-11-28T19:25:31.343192",
     "exception": false,
     "start_time": "2022-11-28T19:25:31.323830",
     "status": "completed"
    },
    "tags": []
   },
   "outputs": [],
   "source": [
    "le1 = LabelEncoder()\n",
    "mdf['toss_decision'] = le1.fit_transform(mdf['toss_decision'])\n"
   ]
  },
  {
   "cell_type": "code",
   "execution_count": 12,
   "id": "cf078017",
   "metadata": {
    "execution": {
     "iopub.execute_input": "2022-11-28T19:25:31.362981Z",
     "iopub.status.busy": "2022-11-28T19:25:31.362199Z",
     "iopub.status.idle": "2022-11-28T19:25:31.367613Z",
     "shell.execute_reply": "2022-11-28T19:25:31.366809Z"
    },
    "papermill": {
     "duration": 0.017726,
     "end_time": "2022-11-28T19:25:31.370001",
     "exception": false,
     "start_time": "2022-11-28T19:25:31.352275",
     "status": "completed"
    },
    "tags": []
   },
   "outputs": [],
   "source": [
    "le2 = LabelEncoder()\n",
    "mdf['result'] = le2.fit_transform(mdf['result'])"
   ]
  },
  {
   "cell_type": "code",
   "execution_count": 13,
   "id": "e35a1853",
   "metadata": {
    "execution": {
     "iopub.execute_input": "2022-11-28T19:25:31.387922Z",
     "iopub.status.busy": "2022-11-28T19:25:31.387140Z",
     "iopub.status.idle": "2022-11-28T19:25:31.393949Z",
     "shell.execute_reply": "2022-11-28T19:25:31.392759Z"
    },
    "papermill": {
     "duration": 0.018736,
     "end_time": "2022-11-28T19:25:31.396671",
     "exception": false,
     "start_time": "2022-11-28T19:25:31.377935",
     "status": "completed"
    },
    "tags": []
   },
   "outputs": [],
   "source": [
    "le3 = LabelEncoder()\n",
    "mdf['venue'] = le3.fit_transform(mdf['venue'])"
   ]
  },
  {
   "cell_type": "code",
   "execution_count": 14,
   "id": "e1cede52",
   "metadata": {
    "execution": {
     "iopub.execute_input": "2022-11-28T19:25:31.414458Z",
     "iopub.status.busy": "2022-11-28T19:25:31.414006Z",
     "iopub.status.idle": "2022-11-28T19:25:31.431721Z",
     "shell.execute_reply": "2022-11-28T19:25:31.430431Z"
    },
    "papermill": {
     "duration": 0.029966,
     "end_time": "2022-11-28T19:25:31.434706",
     "exception": false,
     "start_time": "2022-11-28T19:25:31.404740",
     "status": "completed"
    },
    "tags": []
   },
   "outputs": [
    {
     "data": {
      "text/html": [
       "<div>\n",
       "<style scoped>\n",
       "    .dataframe tbody tr th:only-of-type {\n",
       "        vertical-align: middle;\n",
       "    }\n",
       "\n",
       "    .dataframe tbody tr th {\n",
       "        vertical-align: top;\n",
       "    }\n",
       "\n",
       "    .dataframe thead th {\n",
       "        text-align: right;\n",
       "    }\n",
       "</style>\n",
       "<table border=\"1\" class=\"dataframe\">\n",
       "  <thead>\n",
       "    <tr style=\"text-align: right;\">\n",
       "      <th></th>\n",
       "      <th>venue</th>\n",
       "      <th>team1</th>\n",
       "      <th>team2</th>\n",
       "      <th>toss_winner</th>\n",
       "      <th>toss_decision</th>\n",
       "      <th>winner</th>\n",
       "      <th>result</th>\n",
       "    </tr>\n",
       "  </thead>\n",
       "  <tbody>\n",
       "    <tr>\n",
       "      <th>0</th>\n",
       "      <td>14</td>\n",
       "      <td>13</td>\n",
       "      <td>7</td>\n",
       "      <td>13</td>\n",
       "      <td>1</td>\n",
       "      <td>7</td>\n",
       "      <td>0</td>\n",
       "    </tr>\n",
       "    <tr>\n",
       "      <th>1</th>\n",
       "      <td>23</td>\n",
       "      <td>5</td>\n",
       "      <td>0</td>\n",
       "      <td>0</td>\n",
       "      <td>0</td>\n",
       "      <td>0</td>\n",
       "      <td>0</td>\n",
       "    </tr>\n",
       "    <tr>\n",
       "      <th>2</th>\n",
       "      <td>8</td>\n",
       "      <td>3</td>\n",
       "      <td>10</td>\n",
       "      <td>10</td>\n",
       "      <td>0</td>\n",
       "      <td>3</td>\n",
       "      <td>2</td>\n",
       "    </tr>\n",
       "    <tr>\n",
       "      <th>3</th>\n",
       "      <td>35</td>\n",
       "      <td>8</td>\n",
       "      <td>13</td>\n",
       "      <td>8</td>\n",
       "      <td>0</td>\n",
       "      <td>13</td>\n",
       "      <td>2</td>\n",
       "    </tr>\n",
       "    <tr>\n",
       "      <th>4</th>\n",
       "      <td>7</td>\n",
       "      <td>7</td>\n",
       "      <td>1</td>\n",
       "      <td>1</td>\n",
       "      <td>0</td>\n",
       "      <td>7</td>\n",
       "      <td>2</td>\n",
       "    </tr>\n",
       "    <tr>\n",
       "      <th>...</th>\n",
       "      <td>...</td>\n",
       "      <td>...</td>\n",
       "      <td>...</td>\n",
       "      <td>...</td>\n",
       "      <td>...</td>\n",
       "      <td>...</td>\n",
       "      <td>...</td>\n",
       "    </tr>\n",
       "    <tr>\n",
       "      <th>811</th>\n",
       "      <td>6</td>\n",
       "      <td>13</td>\n",
       "      <td>8</td>\n",
       "      <td>8</td>\n",
       "      <td>1</td>\n",
       "      <td>13</td>\n",
       "      <td>1</td>\n",
       "    </tr>\n",
       "    <tr>\n",
       "      <th>812</th>\n",
       "      <td>6</td>\n",
       "      <td>8</td>\n",
       "      <td>2</td>\n",
       "      <td>2</td>\n",
       "      <td>1</td>\n",
       "      <td>8</td>\n",
       "      <td>0</td>\n",
       "    </tr>\n",
       "    <tr>\n",
       "      <th>813</th>\n",
       "      <td>30</td>\n",
       "      <td>13</td>\n",
       "      <td>14</td>\n",
       "      <td>14</td>\n",
       "      <td>1</td>\n",
       "      <td>14</td>\n",
       "      <td>2</td>\n",
       "    </tr>\n",
       "    <tr>\n",
       "      <th>814</th>\n",
       "      <td>30</td>\n",
       "      <td>2</td>\n",
       "      <td>14</td>\n",
       "      <td>2</td>\n",
       "      <td>0</td>\n",
       "      <td>2</td>\n",
       "      <td>0</td>\n",
       "    </tr>\n",
       "    <tr>\n",
       "      <th>815</th>\n",
       "      <td>6</td>\n",
       "      <td>2</td>\n",
       "      <td>8</td>\n",
       "      <td>2</td>\n",
       "      <td>0</td>\n",
       "      <td>8</td>\n",
       "      <td>2</td>\n",
       "    </tr>\n",
       "  </tbody>\n",
       "</table>\n",
       "<p>812 rows × 7 columns</p>\n",
       "</div>"
      ],
      "text/plain": [
       "     venue  team1  team2  toss_winner  toss_decision  winner  result\n",
       "0       14     13      7           13              1       7       0\n",
       "1       23      5      0            0              0       0       0\n",
       "2        8      3     10           10              0       3       2\n",
       "3       35      8     13            8              0      13       2\n",
       "4        7      7      1            1              0       7       2\n",
       "..     ...    ...    ...          ...            ...     ...     ...\n",
       "811      6     13      8            8              1      13       1\n",
       "812      6      8      2            2              1       8       0\n",
       "813     30     13     14           14              1      14       2\n",
       "814     30      2     14            2              0       2       0\n",
       "815      6      2      8            2              0       8       2\n",
       "\n",
       "[812 rows x 7 columns]"
      ]
     },
     "execution_count": 14,
     "metadata": {},
     "output_type": "execute_result"
    }
   ],
   "source": [
    "mdf"
   ]
  },
  {
   "cell_type": "code",
   "execution_count": 15,
   "id": "f9f6f5ad",
   "metadata": {
    "execution": {
     "iopub.execute_input": "2022-11-28T19:25:31.452983Z",
     "iopub.status.busy": "2022-11-28T19:25:31.452574Z",
     "iopub.status.idle": "2022-11-28T19:25:31.460460Z",
     "shell.execute_reply": "2022-11-28T19:25:31.459565Z"
    },
    "papermill": {
     "duration": 0.019794,
     "end_time": "2022-11-28T19:25:31.462915",
     "exception": false,
     "start_time": "2022-11-28T19:25:31.443121",
     "status": "completed"
    },
    "tags": []
   },
   "outputs": [],
   "source": [
    "mdf_ = mdf[['venue','team1','team2','toss_winner','toss_decision']]\n",
    "mdf_target = mdf[['winner']]"
   ]
  },
  {
   "cell_type": "code",
   "execution_count": 16,
   "id": "6c9620b9",
   "metadata": {
    "execution": {
     "iopub.execute_input": "2022-11-28T19:25:31.481893Z",
     "iopub.status.busy": "2022-11-28T19:25:31.481181Z",
     "iopub.status.idle": "2022-11-28T19:25:31.543644Z",
     "shell.execute_reply": "2022-11-28T19:25:31.542456Z"
    },
    "papermill": {
     "duration": 0.075272,
     "end_time": "2022-11-28T19:25:31.546539",
     "exception": false,
     "start_time": "2022-11-28T19:25:31.471267",
     "status": "completed"
    },
    "tags": []
   },
   "outputs": [],
   "source": [
    "from sklearn.model_selection import train_test_split\n",
    "X_train,X_test,y_train,y_test = train_test_split(mdf_,mdf_target,test_size=0.2)"
   ]
  },
  {
   "cell_type": "code",
   "execution_count": 17,
   "id": "2650fc43",
   "metadata": {
    "execution": {
     "iopub.execute_input": "2022-11-28T19:25:31.565285Z",
     "iopub.status.busy": "2022-11-28T19:25:31.564339Z",
     "iopub.status.idle": "2022-11-28T19:25:31.577110Z",
     "shell.execute_reply": "2022-11-28T19:25:31.576230Z"
    },
    "papermill": {
     "duration": 0.024334,
     "end_time": "2022-11-28T19:25:31.579206",
     "exception": false,
     "start_time": "2022-11-28T19:25:31.554872",
     "status": "completed"
    },
    "tags": []
   },
   "outputs": [
    {
     "data": {
      "text/html": [
       "<div>\n",
       "<style scoped>\n",
       "    .dataframe tbody tr th:only-of-type {\n",
       "        vertical-align: middle;\n",
       "    }\n",
       "\n",
       "    .dataframe tbody tr th {\n",
       "        vertical-align: top;\n",
       "    }\n",
       "\n",
       "    .dataframe thead th {\n",
       "        text-align: right;\n",
       "    }\n",
       "</style>\n",
       "<table border=\"1\" class=\"dataframe\">\n",
       "  <thead>\n",
       "    <tr style=\"text-align: right;\">\n",
       "      <th></th>\n",
       "      <th>venue</th>\n",
       "      <th>team1</th>\n",
       "      <th>team2</th>\n",
       "      <th>toss_winner</th>\n",
       "      <th>toss_decision</th>\n",
       "    </tr>\n",
       "  </thead>\n",
       "  <tbody>\n",
       "    <tr>\n",
       "      <th>328</th>\n",
       "      <td>24</td>\n",
       "      <td>14</td>\n",
       "      <td>13</td>\n",
       "      <td>13</td>\n",
       "      <td>0</td>\n",
       "    </tr>\n",
       "    <tr>\n",
       "      <th>814</th>\n",
       "      <td>30</td>\n",
       "      <td>2</td>\n",
       "      <td>14</td>\n",
       "      <td>2</td>\n",
       "      <td>0</td>\n",
       "    </tr>\n",
       "    <tr>\n",
       "      <th>351</th>\n",
       "      <td>14</td>\n",
       "      <td>13</td>\n",
       "      <td>9</td>\n",
       "      <td>9</td>\n",
       "      <td>1</td>\n",
       "    </tr>\n",
       "    <tr>\n",
       "      <th>717</th>\n",
       "      <td>22</td>\n",
       "      <td>5</td>\n",
       "      <td>14</td>\n",
       "      <td>5</td>\n",
       "      <td>1</td>\n",
       "    </tr>\n",
       "    <tr>\n",
       "      <th>290</th>\n",
       "      <td>14</td>\n",
       "      <td>13</td>\n",
       "      <td>5</td>\n",
       "      <td>5</td>\n",
       "      <td>1</td>\n",
       "    </tr>\n",
       "    <tr>\n",
       "      <th>...</th>\n",
       "      <td>...</td>\n",
       "      <td>...</td>\n",
       "      <td>...</td>\n",
       "      <td>...</td>\n",
       "      <td>...</td>\n",
       "    </tr>\n",
       "    <tr>\n",
       "      <th>164</th>\n",
       "      <td>16</td>\n",
       "      <td>0</td>\n",
       "      <td>3</td>\n",
       "      <td>0</td>\n",
       "      <td>0</td>\n",
       "    </tr>\n",
       "    <tr>\n",
       "      <th>439</th>\n",
       "      <td>12</td>\n",
       "      <td>0</td>\n",
       "      <td>13</td>\n",
       "      <td>0</td>\n",
       "      <td>0</td>\n",
       "    </tr>\n",
       "    <tr>\n",
       "      <th>67</th>\n",
       "      <td>13</td>\n",
       "      <td>13</td>\n",
       "      <td>5</td>\n",
       "      <td>13</td>\n",
       "      <td>0</td>\n",
       "    </tr>\n",
       "    <tr>\n",
       "      <th>311</th>\n",
       "      <td>10</td>\n",
       "      <td>5</td>\n",
       "      <td>0</td>\n",
       "      <td>5</td>\n",
       "      <td>1</td>\n",
       "    </tr>\n",
       "    <tr>\n",
       "      <th>211</th>\n",
       "      <td>27</td>\n",
       "      <td>10</td>\n",
       "      <td>9</td>\n",
       "      <td>10</td>\n",
       "      <td>1</td>\n",
       "    </tr>\n",
       "  </tbody>\n",
       "</table>\n",
       "<p>649 rows × 5 columns</p>\n",
       "</div>"
      ],
      "text/plain": [
       "     venue  team1  team2  toss_winner  toss_decision\n",
       "328     24     14     13           13              0\n",
       "814     30      2     14            2              0\n",
       "351     14     13      9            9              1\n",
       "717     22      5     14            5              1\n",
       "290     14     13      5            5              1\n",
       "..     ...    ...    ...          ...            ...\n",
       "164     16      0      3            0              0\n",
       "439     12      0     13            0              0\n",
       "67      13     13      5           13              0\n",
       "311     10      5      0            5              1\n",
       "211     27     10      9           10              1\n",
       "\n",
       "[649 rows x 5 columns]"
      ]
     },
     "execution_count": 17,
     "metadata": {},
     "output_type": "execute_result"
    }
   ],
   "source": [
    "X_train"
   ]
  },
  {
   "cell_type": "code",
   "execution_count": 18,
   "id": "f4162af4",
   "metadata": {
    "execution": {
     "iopub.execute_input": "2022-11-28T19:25:31.598420Z",
     "iopub.status.busy": "2022-11-28T19:25:31.598004Z",
     "iopub.status.idle": "2022-11-28T19:25:31.610165Z",
     "shell.execute_reply": "2022-11-28T19:25:31.608923Z"
    },
    "papermill": {
     "duration": 0.024859,
     "end_time": "2022-11-28T19:25:31.612774",
     "exception": false,
     "start_time": "2022-11-28T19:25:31.587915",
     "status": "completed"
    },
    "tags": []
   },
   "outputs": [
    {
     "data": {
      "text/html": [
       "<div>\n",
       "<style scoped>\n",
       "    .dataframe tbody tr th:only-of-type {\n",
       "        vertical-align: middle;\n",
       "    }\n",
       "\n",
       "    .dataframe tbody tr th {\n",
       "        vertical-align: top;\n",
       "    }\n",
       "\n",
       "    .dataframe thead th {\n",
       "        text-align: right;\n",
       "    }\n",
       "</style>\n",
       "<table border=\"1\" class=\"dataframe\">\n",
       "  <thead>\n",
       "    <tr style=\"text-align: right;\">\n",
       "      <th></th>\n",
       "      <th>winner</th>\n",
       "    </tr>\n",
       "  </thead>\n",
       "  <tbody>\n",
       "    <tr>\n",
       "      <th>328</th>\n",
       "      <td>14</td>\n",
       "    </tr>\n",
       "    <tr>\n",
       "      <th>814</th>\n",
       "      <td>2</td>\n",
       "    </tr>\n",
       "    <tr>\n",
       "      <th>351</th>\n",
       "      <td>13</td>\n",
       "    </tr>\n",
       "    <tr>\n",
       "      <th>717</th>\n",
       "      <td>5</td>\n",
       "    </tr>\n",
       "    <tr>\n",
       "      <th>290</th>\n",
       "      <td>5</td>\n",
       "    </tr>\n",
       "    <tr>\n",
       "      <th>...</th>\n",
       "      <td>...</td>\n",
       "    </tr>\n",
       "    <tr>\n",
       "      <th>164</th>\n",
       "      <td>3</td>\n",
       "    </tr>\n",
       "    <tr>\n",
       "      <th>439</th>\n",
       "      <td>13</td>\n",
       "    </tr>\n",
       "    <tr>\n",
       "      <th>67</th>\n",
       "      <td>5</td>\n",
       "    </tr>\n",
       "    <tr>\n",
       "      <th>311</th>\n",
       "      <td>5</td>\n",
       "    </tr>\n",
       "    <tr>\n",
       "      <th>211</th>\n",
       "      <td>10</td>\n",
       "    </tr>\n",
       "  </tbody>\n",
       "</table>\n",
       "<p>649 rows × 1 columns</p>\n",
       "</div>"
      ],
      "text/plain": [
       "     winner\n",
       "328      14\n",
       "814       2\n",
       "351      13\n",
       "717       5\n",
       "290       5\n",
       "..      ...\n",
       "164       3\n",
       "439      13\n",
       "67        5\n",
       "311       5\n",
       "211      10\n",
       "\n",
       "[649 rows x 1 columns]"
      ]
     },
     "execution_count": 18,
     "metadata": {},
     "output_type": "execute_result"
    }
   ],
   "source": [
    "y_train"
   ]
  },
  {
   "cell_type": "code",
   "execution_count": 19,
   "id": "f47679b7",
   "metadata": {
    "execution": {
     "iopub.execute_input": "2022-11-28T19:25:31.632445Z",
     "iopub.status.busy": "2022-11-28T19:25:31.632016Z",
     "iopub.status.idle": "2022-11-28T19:25:31.794958Z",
     "shell.execute_reply": "2022-11-28T19:25:31.793297Z"
    },
    "papermill": {
     "duration": 0.177085,
     "end_time": "2022-11-28T19:25:31.798797",
     "exception": false,
     "start_time": "2022-11-28T19:25:31.621712",
     "status": "completed"
    },
    "tags": []
   },
   "outputs": [
    {
     "name": "stderr",
     "output_type": "stream",
     "text": [
      "/opt/conda/lib/python3.7/site-packages/sklearn/utils/validation.py:993: DataConversionWarning:\n",
      "\n",
      "A column-vector y was passed when a 1d array was expected. Please change the shape of y to (n_samples, ), for example using ravel().\n",
      "\n"
     ]
    },
    {
     "data": {
      "text/plain": [
       "GaussianNB()"
      ]
     },
     "execution_count": 19,
     "metadata": {},
     "output_type": "execute_result"
    }
   ],
   "source": [
    "from sklearn.naive_bayes import GaussianNB\n",
    "clf_gnb = GaussianNB()\n",
    "clf_gnb.fit(X_train, y_train)\n"
   ]
  },
  {
   "cell_type": "code",
   "execution_count": 20,
   "id": "89388bb9",
   "metadata": {
    "execution": {
     "iopub.execute_input": "2022-11-28T19:25:31.821610Z",
     "iopub.status.busy": "2022-11-28T19:25:31.821023Z",
     "iopub.status.idle": "2022-11-28T19:25:31.834034Z",
     "shell.execute_reply": "2022-11-28T19:25:31.833100Z"
    },
    "papermill": {
     "duration": 0.028645,
     "end_time": "2022-11-28T19:25:31.837957",
     "exception": false,
     "start_time": "2022-11-28T19:25:31.809312",
     "status": "completed"
    },
    "tags": []
   },
   "outputs": [
    {
     "name": "stdout",
     "output_type": "stream",
     "text": [
      "24.961479198767332\n"
     ]
    }
   ],
   "source": [
    "y_prediction_gnb = clf_gnb.predict(X_test)\n",
    "accuracy_score_gnb = clf_gnb.score(X_train, y_train)*100\n",
    "print (accuracy_score_gnb)"
   ]
  },
  {
   "cell_type": "code",
   "execution_count": 21,
   "id": "8be6b9a9",
   "metadata": {
    "execution": {
     "iopub.execute_input": "2022-11-28T19:25:31.858397Z",
     "iopub.status.busy": "2022-11-28T19:25:31.857783Z",
     "iopub.status.idle": "2022-11-28T19:25:31.988995Z",
     "shell.execute_reply": "2022-11-28T19:25:31.987267Z"
    },
    "papermill": {
     "duration": 0.145238,
     "end_time": "2022-11-28T19:25:31.992421",
     "exception": false,
     "start_time": "2022-11-28T19:25:31.847183",
     "status": "completed"
    },
    "tags": []
   },
   "outputs": [
    {
     "name": "stderr",
     "output_type": "stream",
     "text": [
      "/opt/conda/lib/python3.7/site-packages/sklearn/neighbors/_classification.py:198: DataConversionWarning:\n",
      "\n",
      "A column-vector y was passed when a 1d array was expected. Please change the shape of y to (n_samples,), for example using ravel().\n",
      "\n"
     ]
    },
    {
     "data": {
      "text/plain": [
       "KNeighborsClassifier(n_neighbors=3)"
      ]
     },
     "execution_count": 21,
     "metadata": {},
     "output_type": "execute_result"
    }
   ],
   "source": [
    "from sklearn.neighbors import KNeighborsClassifier\n",
    "clf_knn = KNeighborsClassifier(n_neighbors=3)\n",
    "clf_knn.fit(X_train, y_train)\n"
   ]
  },
  {
   "cell_type": "code",
   "execution_count": 22,
   "id": "887352f3",
   "metadata": {
    "execution": {
     "iopub.execute_input": "2022-11-28T19:25:32.013248Z",
     "iopub.status.busy": "2022-11-28T19:25:32.012600Z",
     "iopub.status.idle": "2022-11-28T19:25:32.046004Z",
     "shell.execute_reply": "2022-11-28T19:25:32.044530Z"
    },
    "papermill": {
     "duration": 0.046951,
     "end_time": "2022-11-28T19:25:32.048781",
     "exception": false,
     "start_time": "2022-11-28T19:25:32.001830",
     "status": "completed"
    },
    "tags": []
   },
   "outputs": [
    {
     "name": "stdout",
     "output_type": "stream",
     "text": [
      "68.56702619414484\n"
     ]
    }
   ],
   "source": [
    "y_prediction_gnb = clf_knn.predict(X_test)\n",
    "accuracy_score_knn = clf_knn.score(X_train, y_train)*100\n",
    "print (accuracy_score_knn)"
   ]
  },
  {
   "cell_type": "code",
   "execution_count": 23,
   "id": "990d01c0",
   "metadata": {
    "execution": {
     "iopub.execute_input": "2022-11-28T19:25:32.069832Z",
     "iopub.status.busy": "2022-11-28T19:25:32.069427Z",
     "iopub.status.idle": "2022-11-28T19:25:32.082546Z",
     "shell.execute_reply": "2022-11-28T19:25:32.081007Z"
    },
    "papermill": {
     "duration": 0.027469,
     "end_time": "2022-11-28T19:25:32.085530",
     "exception": false,
     "start_time": "2022-11-28T19:25:32.058061",
     "status": "completed"
    },
    "tags": []
   },
   "outputs": [
    {
     "name": "stdout",
     "output_type": "stream",
     "text": [
      "33.74233128834356\n"
     ]
    }
   ],
   "source": [
    "accuracy_score_knn = clf_knn.score(X_test, y_test)*100\n",
    "print(accuracy_score_knn)"
   ]
  }
 ],
 "metadata": {
  "kernelspec": {
   "display_name": "Python 3",
   "language": "python",
   "name": "python3"
  },
  "language_info": {
   "codemirror_mode": {
    "name": "ipython",
    "version": 3
   },
   "file_extension": ".py",
   "mimetype": "text/x-python",
   "name": "python",
   "nbconvert_exporter": "python",
   "pygments_lexer": "ipython3",
   "version": "3.7.12"
  },
  "papermill": {
   "default_parameters": {},
   "duration": 15.678344,
   "end_time": "2022-11-28T19:25:33.019055",
   "environment_variables": {},
   "exception": null,
   "input_path": "__notebook__.ipynb",
   "output_path": "__notebook__.ipynb",
   "parameters": {},
   "start_time": "2022-11-28T19:25:17.340711",
   "version": "2.3.4"
  }
 },
 "nbformat": 4,
 "nbformat_minor": 5
}
